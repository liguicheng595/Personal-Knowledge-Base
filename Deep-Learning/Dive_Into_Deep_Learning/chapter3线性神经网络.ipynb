{
 "cells": [
  {
   "cell_type": "markdown",
   "metadata": {},
   "source": [
    "# 3.1 线性回归\n"
   ]
  },
  {
   "cell_type": "markdown",
   "metadata": {},
   "source": [
    "介绍了线性模型、损失函数、优化策略、解析解（正规方程）、矢量化加速（矩阵相乘）、生物学神经单元传递"
   ]
  },
  {
   "cell_type": "markdown",
   "metadata": {},
   "source": [
    "## 3.1.6. 练习\n",
    "[答案](https://lxblog.com/qianwen/share?shareId=46d4a020-5313-49dc-b86a-84ca2fcc58a1)"
   ]
  },
  {
   "cell_type": "markdown",
   "metadata": {},
   "source": [
    "# 3.2 从零实现线性回归"
   ]
  },
  {
   "cell_type": "code",
   "execution_count": 1,
   "metadata": {},
   "outputs": [
    {
     "data": {
      "text/plain": [
       "<matplotlib.collections.PathCollection at 0x2522e93f820>"
      ]
     },
     "execution_count": 1,
     "metadata": {},
     "output_type": "execute_result"
    },
    {
     "data": {
      "image/png": "[encoded data removed]",
      "text/plain": [
       "<Figure size 640x480 with 1 Axes>"
      ]
     },
     "metadata": {},
     "output_type": "display_data"
    }
   ],
   "source": [
    "%matplotlib inline\n",
    "import random\n",
    "import torch\n",
    "import matplotlib.pyplot as plt\n",
    "\n",
    "# 生成数据\n",
    "def init_data(w, b, num_examples):\n",
    "    x = torch.normal(0, 1, (num_examples, w.shape[0]))\n",
    "    y = torch.mm(x, w) + b\n",
    "    y += torch.normal(0, 0.01, y.shape)\n",
    "\n",
    "    return x, y\n",
    "\n",
    "w = torch.tensor([2.0, -3.4]).reshape(2, -1)\n",
    "b = torch.tensor([4.2])\n",
    "num_examples = 100\n",
    "\n",
    "features, labels = init_data(w, b, num_examples)\n",
    "\n",
    "plt.scatter(features[:, 1].detach().numpy(), labels.detach().numpy(), 1)"
   ]
  },
  {
   "cell_type": "code",
   "execution_count": 2,
   "metadata": {},
   "outputs": [],
   "source": [
    "# 定义数据加载器\n",
    "def data_iter(batch_size, features, labels):\n",
    "    num_features = len(features)\n",
    "    samper_indices = list(range(num_features))\n",
    "    # 假设随机采样\n",
    "    random.shuffle(samper_indices)\n",
    "\n",
    "    for i in range(0, num_features, batch_size):\n",
    "        batch_indices = torch.tensor(samper_indices[i:min(i+batch_size, num_features)])\n",
    "        batch_feature = features[batch_indices]\n",
    "        batch_lable = labels[batch_indices]\n",
    "        yield batch_feature, batch_lable\n",
    "\n",
    "batch_feature, batch_lable = next(data_iter(10, features, labels))"
   ]
  },
  {
   "cell_type": "code",
   "execution_count": 3,
   "metadata": {},
   "outputs": [],
   "source": [
    "# 定义模型\n",
    "def linear_model(w, b, x):\n",
    "    return torch.matmul(x, w) + b\n",
    "\n",
    "# 定义损失函数\n",
    "def square_loss(y_hat, y):\n",
    "    return (y_hat - y) ** 2 / 2\n",
    "\n",
    "# 定义优化器\n",
    "def optimizer_sgd(param, lr, batch_size):\n",
    "    with torch.no_grad():\n",
    "        param -= lr * param.grad / batch_size\n",
    "        param.grad.zero_()"
   ]
  },
  {
   "cell_type": "code",
   "execution_count": 6,
   "metadata": {},
   "outputs": [
    {
     "data": {
      "text/plain": [
       "[<matplotlib.lines.Line2D at 0x25236a8de20>]"
      ]
     },
     "execution_count": 6,
     "metadata": {},
     "output_type": "execute_result"
    },
    {
     "data": {
      "image/png": "[encoded data removed]",
      "text/plain": [
       "<Figure size 640x480 with 1 Axes>"
      ]
     },
     "metadata": {},
     "output_type": "display_data"
    }
   ],
   "source": [
    "# 超参数\n",
    "batch_size = 10\n",
    "lr = 0.01\n",
    "epochs = 100\n",
    "\n",
    "w = torch.normal(0, 0.01, (features.shape[1], 1), requires_grad=True)\n",
    "b = torch.zeros(1, requires_grad=True)\n",
    "\n",
    "total_loss_list = []\n",
    "\n",
    "for epoch in range(epochs):\n",
    "    total_loss = 0.0\n",
    "    for batch_feature, batch_lable in data_iter(batch_size, features, labels):\n",
    "        y_hat = linear_model(w, b, batch_feature)\n",
    "        loss = square_loss(y_hat, batch_lable)\n",
    "        loss.sum().backward()\n",
    "        optimizer_sgd(w, lr, batch_size)\n",
    "        optimizer_sgd(b, lr, batch_size)\n",
    "\n",
    "        total_loss += loss.sum().item()\n",
    "    total_loss_list.append(total_loss)\n",
    "plt.plot(range(epochs), total_loss_list)"
   ]
  },
  {
   "cell_type": "markdown",
   "metadata": {},
   "source": [
    "## 3.2.9 练习 \n",
    "1. 如果我们将权重初始化为零，会发生什么。算法仍然有效吗？\n",
    "    - 不仅仅初始化模型会失效，就是所有参数都初始化为相同的值都为失效。如果相同的值，样本输入后，输出一定是固定的，计算得到的梯度都是一样的相当于模型参数不会更新。这种现象被称为“对称性破坏”或“死节点”。因此，算法可能无法有效地学习到数据中的复杂模式。\n",
    "\n",
    "2. 假设试图为电压和电流的关系建立一个模型。自动微分可以用来学习模型的参数吗?\n",
    "    - 可以的，就是相当于学习电阻这个参数\n",
    "\n",
    "3. 能基于普朗克定律使用光谱能量密度来确定物体的温度吗？\n",
    "    - 可以吧，有公式就能推到参数\n",
    "\n",
    "4. 计算二阶导数时可能会遇到什么问题？这些问题可以如何解决？\n",
    "    - 计算二阶导数可能会遇到数值稳定性问题，尤其是在梯度消失或爆炸的情况下。这些问题可以通过正则化、梯度裁剪等方法来缓解。\n",
    "\n",
    "5. 为什么在squared_loss函数中需要使用reshape函数？\n",
    "    - 保证损失计算是一一对应的\n",
    "\n",
    "6. 如果样本个数不能被批量大小整除，data_iter函数的行为会有什么变化？\n",
    "    - 最后一个批次不固定大小呗"
   ]
  },
  {
   "cell_type": "markdown",
   "metadata": {},
   "source": [
    "# 3.3 线性回归的简单实现"
   ]
  },
  {
   "cell_type": "code",
   "execution_count": 1,
   "metadata": {},
   "outputs": [],
   "source": [
    "import torch\n",
    "import torch.nn as nn\n",
    "import torch.optim.optimizer as optimizer\n",
    "import torch.utils\n",
    "import torch.utils.data as data\n",
    "\n",
    "# 生成数据\n",
    "def init_data(w, b, num_examples):\n",
    "    x = torch.normal(0, 1, (num_examples, w.shape[0]))\n",
    "    y = torch.mm(x, w) + b\n",
    "    y += torch.normal(0, 0.01, y.shape)\n",
    "    return x, y\n",
    "\n",
    "def init_data_iter(dataset, batch_size, is_shuffle):\n",
    "    dataset = data.TensorDataset(*dataset)\n",
    "\n",
    "    return data.DataLoader(dataset, batch_size=batch_size, shuffle=is_shuffle)\n",
    "w = torch.tensor([2.0, -3.4]).reshape(2, -1)\n",
    "b = torch.tensor([4.2])\n",
    "num_examples = 100\n",
    "\n",
    "dataset = init_data(w, b, num_examples)\n",
    "batch_size = 10\n",
    "is_shuffle = True\n",
    "data_iter = init_data_iter(dataset, batch_size, is_shuffle)"
   ]
  },
  {
   "cell_type": "code",
   "execution_count": null,
   "metadata": {},
   "outputs": [
    {
     "name": "stdout",
     "output_type": "stream",
     "text": [
      "tensor([[-4.6553,  5.4173]])\n",
      "tensor([[-3.5361,  4.8282]])\n",
      "tensor([[-7.6715, 14.0195]])\n",
      "tensor([[-1.5402,  4.0579]])\n",
      "tensor([[-6.8644,  2.2571]])\n",
      "tensor([[2.2971, 2.6942]])\n",
      "tensor([[-2.0509,  3.6641]])\n",
      "tensor([[-8.2855,  8.0251]])\n",
      "tensor([[-0.9867,  0.1246]])\n",
      "tensor([[-0.9049,  0.4706]])\n",
      "198.25868320465088\n",
      "tensor([[0.2693, 4.2471]])\n",
      "tensor([[-2.9512,  4.1350]])\n",
      "tensor([[-3.4563,  2.5399]])\n",
      "tensor([[-0.6709,  5.8148]])\n",
      "tensor([[-0.2239,  1.4921]])\n",
      "tensor([[-2.6468,  4.6942]])\n",
      "tensor([[-4.6542,  1.3997]])\n",
      "tensor([[-1.0392,  0.5426]])\n",
      "tensor([[-1.0396,  0.7063]])\n",
      "tensor([[-0.6767,  1.3644]])\n",
      "61.02340221405029\n",
      "tensor([[-0.5282,  1.5793]])\n",
      "tensor([[-1.6996,  1.7254]])\n",
      "tensor([[-0.4115,  0.4829]])\n",
      "tensor([[-1.6235,  1.4108]])\n",
      "tensor([[-1.2616,  2.0428]])\n",
      "tensor([[-1.1557,  2.0224]])\n",
      "tensor([[0.5594, 1.8214]])\n",
      "tensor([[-1.8148,  2.1998]])\n",
      "tensor([[-0.7146,  1.4005]])\n",
      "tensor([[-0.0460,  1.2684]])\n",
      "19.21458661556244\n",
      "tensor([[0.1981, 0.7940]])\n",
      "tensor([[-1.3462,  1.2859]])\n",
      "tensor([[-0.5697,  1.1207]])\n",
      "tensor([[-0.3931,  1.6158]])\n",
      "tensor([[-0.0482,  0.5647]])\n",
      "tensor([[-0.5941,  1.0882]])\n",
      "tensor([[-0.8086,  0.5955]])\n",
      "tensor([[-0.2712,  1.6194]])\n",
      "tensor([[4.7141e-04, 4.9880e-01]])\n",
      "tensor([[-0.2862,  0.4648]])\n",
      "6.235203638672829\n",
      "tensor([[0.1564, 0.4938]])\n",
      "tensor([[-0.8157,  1.6557]])\n",
      "tensor([[0.1849, 0.1959]])\n",
      "tensor([[-0.2095,  0.4050]])\n",
      "tensor([[-0.6156,  0.6482]])\n",
      "tensor([[-0.3958,  0.7034]])\n",
      "tensor([[-0.0690,  0.5221]])\n",
      "tensor([[-0.2927,  0.1448]])\n",
      "tensor([[-0.0735,  0.3407]])\n",
      "tensor([[0.3072, 0.8004]])\n",
      "2.0802734419703484\n",
      "tensor([[-0.4425,  0.5810]])\n",
      "tensor([[0.0263, 0.2561]])\n",
      "tensor([[-0.0709,  0.5018]])\n",
      "tensor([[0.1315, 0.3018]])\n",
      "tensor([[0.1491, 0.3184]])\n",
      "tensor([[-0.1328,  0.1051]])\n",
      "tensor([[-0.0052,  0.7067]])\n",
      "tensor([[-0.2181,  0.2661]])\n",
      "tensor([[-0.1599,  0.1856]])\n",
      "tensor([[-0.1054,  0.3650]])\n",
      "0.6980579271912575\n",
      "tensor([[-0.0753,  0.3575]])\n",
      "tensor([[-0.0036,  0.1493]])\n",
      "tensor([[-0.1136,  0.2475]])\n",
      "tensor([[0.0607, 0.1900]])\n",
      "tensor([[0.0291, 0.1396]])\n",
      "tensor([[0.1459, 0.1883]])\n",
      "tensor([[-0.0642,  0.2473]])\n",
      "tensor([[-0.0293,  0.1898]])\n",
      "tensor([[-0.0291,  0.1888]])\n",
      "tensor([[-0.2314,  0.2872]])\n",
      "0.24143672361969948\n",
      "tensor([[-0.0621,  0.1496]])\n",
      "tensor([[0.0137, 0.1020]])\n",
      "tensor([[-0.0098,  0.2793]])\n",
      "tensor([[0.0453, 0.1302]])\n",
      "tensor([[-0.0145,  0.0701]])\n",
      "tensor([[-0.0064,  0.0951]])\n",
      "tensor([[0.0760, 0.2522]])\n",
      "tensor([[-0.0564,  0.1274]])\n",
      "tensor([[-0.0256,  0.0760]])\n",
      "tensor([[-0.0378,  0.0735]])\n",
      "0.08654917846433818\n",
      "tensor([[-0.0010,  0.0757]])\n",
      "tensor([[0.0068, 0.0919]])\n",
      "tensor([[0.0182, 0.1237]])\n",
      "tensor([[-0.0402,  0.1471]])\n",
      "tensor([[0.0543, 0.0761]])\n",
      "tensor([[-0.0356,  0.0653]])\n",
      "tensor([[0.0074, 0.0473]])\n",
      "tensor([[-0.0188,  0.1153]])\n",
      "tensor([[0.0033, 0.0473]])\n",
      "tensor([[0.0108, 0.0393]])\n",
      "0.0317789699183777\n",
      "tensor([[0.0468, 0.0735]])\n",
      "tensor([[-0.0126,  0.1056]])\n",
      "tensor([[0.0082, 0.0165]])\n",
      "tensor([[-0.0233,  0.0968]])\n",
      "tensor([[-0.0078,  0.0419]])\n",
      "tensor([[-0.0055,  0.0530]])\n",
      "tensor([[0.0115, 0.0195]])\n",
      "tensor([[0.0074, 0.0391]])\n",
      "tensor([[0.0061, 0.0440]])\n",
      "tensor([[0.0055, 0.0245]])\n",
      "0.012388454808387905\n"
     ]
    }
   ],
   "source": [
    "# 定义模型\n",
    "net = nn.Sequential(nn.Linear(2, 1))\n",
    "\n",
    "# 参数初始化\n",
    "net[0].weight.data.normal_(0, 0.01)\n",
    "net[0].bias.data.fill_(0)\n",
    "\n",
    "# 定义loss\n",
    "mse_loss = nn.MSELoss()\n",
    "# 定义优化算法\n",
    "optimizer = torch.optim.SGD(net.parameters(), lr=0.03)\n",
    "\n",
    "# 开始训练\n",
    "epochs = 10\n",
    "\n",
    "for epoch in range(epochs):\n",
    "    total_loss = 0.0\n",
    "    for batch_feature, batch_lable in data_iter:\n",
    "        y_hat = net(batch_feature)\n",
    "        optimizer.zero_grad()\n",
    "        loss = mse_loss(batch_lable, y_hat)\n",
    "        loss.backward()\n",
    "        optimizer.step()\n",
    "\n",
    "        total_loss += loss.item()\n",
    "    print(total_loss)"
   ]
  },
  {
   "cell_type": "markdown",
   "metadata": {},
   "source": [
    "## 3.3.9 练习\n",
    "1. 如果将小批量的总损失替换为小批量损失的平均值，需要如何更改学习率？\n",
    "    - 把损失从总和（sum）变为平均（mean），每个样本的梯度会被缩小，所以如果你保持原来的学习率，参数更新也会变小，训练会变慢，这时候学习率应该相应增加\n",
    "    - 一直用 mean是PyTorch默认行为\n",
    "2. 查看深度学习框架文档，它们提供了哪些损失函数和初始化方法？用Huber损失代替原损失\n",
    "    - pytorch中常用的损失函数，通过[损失函数官方文档介绍](https://pytorch.org/docs/stable/nn.html#loss-functions)可以查看\n",
    "3. 如何访问线性回归的梯度？\n",
    "    - print(net[0].weight.grad)"
   ]
  },
  {
   "cell_type": "markdown",
   "metadata": {},
   "source": [
    "# 3.4 softmax回归\n",
    "讲解的是分类问题\n",
    "1. 什么是分类问题，简单来说就是预测样本属于哪个类别\n",
    "2. 网络架构，最后的全连接层为p * q的，其中q是分类类别\n",
    "3. softmax函数\n",
    "    - 作用就是把最后全连接层输出结果进行归一化，总和为1，数值在0到1之间\n",
    "    - 公式：\n",
    "    $$ \\text{Softmax}(z_i) = \\frac{e^{z_i}}{\\sum_{j=1}^n e^{z_j}} $$\n",
    "    - 其中，$ z_i $ 是输入向量的第 $ i $ 个元素，$ n $ 是输入向量的总维度。\n",
    "    - 取概率最大作为预测类别\n",
    "4. softmax批量计算\n",
    "    - 为了加快计算效率，通常会批量计算的，输出为X（n*p）,全连接层（p*q）输出O，经过softmax层，输出为Y（n*q）\n",
    "5. 损失函数\n",
    "    - 对数似然：可以认为对给定任意输入x的每个类的条件概率，要做的就是最大化所有样本的连城条件概率，根据最大化似然函数，变为求负对数似然\n",
    "    - softmax求导、交叉熵求导、交叉熵损失函数求导：参考[softmax等求导](https://www.cnblogs.com/wuliytTaotao/p/10787510.html)\n",
    "6. 信息论基础\n",
    "    - 香农的信息论究竟牛在哪里？ - Hao Bai的回答 - 知乎 https://www.zhihu.com/question/27068465/answer/2517655344\n"
   ]
  },
  {
   "cell_type": "markdown",
   "metadata": {},
   "source": [
    "# 3.5 图像分类数据集 "
   ]
  },
  {
   "cell_type": "code",
   "execution_count": null,
   "metadata": {},
   "outputs": [],
   "source": [
    "import torch\n",
    "import torchvision\n",
    "from torch.utils import data\n",
    "from torchvision import transforms\n",
    "\n",
    "\n",
    "# 读取数据集并转化\n",
    "trans = transforms.ToTensor()\n",
    "mnist_train = torchvision.datasets.FashionMNIST(root='E:\\Personal-Knowledge-Base\\Data\\Deep-Learning\\data',\n",
    "                                                  train=True, transform=trans, download=True)\n",
    "mnist_test = torchvision.datasets.FashionMNIST(root='E:\\Personal-Knowledge-Base\\Data\\Deep-Learning\\data',\n",
    "                                                train=False, transform=trans, download=True)"
   ]
  },
  {
   "cell_type": "code",
   "execution_count": 4,
   "metadata": {},
   "outputs": [
    {
     "data": {
      "text/plain": [
       "(60000, 10000)"
      ]
     },
     "execution_count": 4,
     "metadata": {},
     "output_type": "execute_result"
    }
   ],
   "source": [
    "len(mnist_train), len(mnist_test)"
   ]
  },
  {
   "cell_type": "code",
   "execution_count": 15,
   "metadata": {},
   "outputs": [
    {
     "data": {
      "text/plain": [
       "array([<Axes: title={'center': 'ankle boot'}>,\n",
       "       <Axes: title={'center': 't-shirt'}>,\n",
       "       <Axes: title={'center': 't-shirt'}>,\n",
       "       <Axes: title={'center': 'dress'}>,\n",
       "       <Axes: title={'center': 't-shirt'}>,\n",
       "       <Axes: title={'center': 'pullover'}>,\n",
       "       <Axes: title={'center': 'sneaker'}>,\n",
       "       <Axes: title={'center': 'pullover'}>,\n",
       "       <Axes: title={'center': 'sandal'}>,\n",
       "       <Axes: title={'center': 'sandal'}>,\n",
       "       <Axes: title={'center': 't-shirt'}>,\n",
       "       <Axes: title={'center': 'ankle boot'}>,\n",
       "       <Axes: title={'center': 'sandal'}>,\n",
       "       <Axes: title={'center': 'sandal'}>,\n",
       "       <Axes: title={'center': 'sneaker'}>,\n",
       "       <Axes: title={'center': 'ankle boot'}>,\n",
       "       <Axes: title={'center': 'trouser'}>,\n",
       "       <Axes: title={'center': 't-shirt'}>], dtype=object)"
      ]
     },
     "execution_count": 15,
     "metadata": {},
     "output_type": "execute_result"
    },
    {
     "data": {
      "image/png": "[encoded data removed]",
      "text/plain": [
       "<Figure size 250x1125 with 18 Axes>"
      ]
     },
     "metadata": {},
     "output_type": "display_data"
    }
   ],
   "source": [
    "import matplotlib.pyplot as plt\n",
    "# 获取标签\n",
    "def get_fashion_mnist_lables(labels):\n",
    "    text_labels = ['t-shirt', 'trouser', 'pullover', 'dress', 'coat',\n",
    "                'sandal', 'shirt', 'sneaker', 'bag', 'ankle boot']\n",
    "    return [text_labels[int(i)] for i in labels]\n",
    "\n",
    "def show_img(imgs, num_rols, num_cols, titles=None, scale=1.25):\n",
    "    figsize = (num_rols * scale, num_cols * scale)\n",
    "    _, axes = plt.subplots(num_rols, num_cols, figsize=figsize)\n",
    "    axes = axes.flatten()\n",
    "    for i, (ax, img) in enumerate(zip(axes, imgs)):\n",
    "        if torch.is_tensor(img):\n",
    "            # 图片张量\n",
    "            ax.imshow(img.numpy())\n",
    "        else:\n",
    "            # PIL图片\n",
    "            ax.imshow(img)\n",
    "        ax.axes.get_xaxis().set_visible(False)\n",
    "        ax.axes.get_yaxis().set_visible(False)\n",
    "        if titles:\n",
    "            ax.set_title(titles[i])\n",
    "    return axes\n",
    "\n",
    "\n",
    "X, y = next(iter(data.DataLoader(mnist_train, batch_size=18)))\n",
    "show_img(X.reshape(18, 28, 28), 2, 9, titles=get_fashion_mnist_lables(y), scale=1.25)\n"
   ]
  },
  {
   "cell_type": "code",
   "execution_count": null,
   "metadata": {},
   "outputs": [],
   "source": []
  }
 ],
 "metadata": {
  "kernelspec": {
   "display_name": "jupyter",
   "language": "python",
   "name": "python3"
  },
  "language_info": {
   "codemirror_mode": {
    "name": "ipython",
    "version": 3
   },
   "file_extension": ".py",
   "mimetype": "text/x-python",
   "name": "python",
   "nbconvert_exporter": "python",
   "pygments_lexer": "ipython3",
   "version": "3.8.19"
  }
 },
 "nbformat": 4,
 "nbformat_minor": 2
}
