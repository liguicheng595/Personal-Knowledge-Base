{
 "cells": [
  {
   "cell_type": "markdown",
   "id": "6dd22ef1",
   "metadata": {},
   "source": [
    "# Using TensorBoard with PyTorch\n",
    "## 环境准备\n",
    "\n",
    "在运行这个实例之前你需要安装 PyTorch, TorchVision, Matplotlib, and TensorBoard.\n",
    "\n",
    "With `conda`:\n",
    "\n",
    "`conda install pytorch torchvision -c pytorch`\n",
    "`conda install matplotlib tensorboard`\n",
    "\n",
    "With `pip`:\n",
    "\n",
    "`pip install torch torchvision matplotlib tensorboard`\n",
    "\n",
    "Once the dependencies are installed, restart this notebook in the Python environment where you installed them."
   ]
  },
  {
   "cell_type": "markdown",
   "id": "91c344d7",
   "metadata": {},
   "source": [
    "## 引言\n",
    "\n",
    "在本笔记中，我们将使用Fashion-MNIST数据集来训练LeNet-5的一种变体。Fashion-MNIST是一组图像瓷砖，描绘了各种衣物，带有十个类别标签，指示所描绘的衣物类型。"
   ]
  },
  {
   "cell_type": "code",
   "execution_count": 14,
   "id": "e96a5dea",
   "metadata": {},
   "outputs": [],
   "source": [
    "# PyTorch model and training necessities\n",
    "import torch\n",
    "import torch.nn as nn\n",
    "import torch.nn.functional as F\n",
    "import torch.optim as optim\n",
    "\n",
    "# Image datasets and image manipulation\n",
    "import torchvision\n",
    "import torchvision.transforms as transforms\n",
    "\n",
    "# Image display\n",
    "import matplotlib.pyplot as plt\n",
    "import numpy as np\n",
    "\n",
    "# PyTorch TensorBoard support\n",
    "from torch.utils.tensorboard import SummaryWriter"
   ]
  },
  {
   "cell_type": "markdown",
   "id": "7c1d2659",
   "metadata": {},
   "source": [
    "## 一、在TensorBoard中显示图像\n",
    "\n",
    "我们从将数据集中的样本图像添加到TensorBoard开始："
   ]
  },
  {
   "cell_type": "code",
   "execution_count": 15,
   "id": "517484bc",
   "metadata": {},
   "outputs": [],
   "source": [
    "# Gather datasets and prepare them for consumption\n",
    "transform = transforms.Compose(\n",
    "    [transforms.ToTensor(),\n",
    "    transforms.Normalize((0.5,), (0.5,))])\n",
    "\n",
    "# Store separate training and validations splits in ./data\n",
    "training_set = torchvision.datasets.FashionMNIST('../../../Data/Deep-Learning/data',\n",
    "    download=True,\n",
    "    train=True,\n",
    "    transform=transform)\n",
    "    \n",
    "validation_set = torchvision.datasets.FashionMNIST('../../../Data/Deep-Learning/data',\n",
    "    download=True,\n",
    "    train=False,\n",
    "    transform=transform)\n",
    "\n",
    "training_loader = torch.utils.data.DataLoader(training_set,\n",
    "                                              batch_size=4,\n",
    "                                              shuffle=True,\n",
    "                                              num_workers=2)\n",
    "\n",
    "\n",
    "validation_loader = torch.utils.data.DataLoader(validation_set,\n",
    "                                                batch_size=4,\n",
    "                                                shuffle=False,\n",
    "                                                num_workers=2)\n",
    "\n",
    "# Class labels\n",
    "classes = ('T-shirt/top', 'Trouser', 'Pullover', 'Dress', 'Coat',\n",
    "        'Sandal', 'Shirt', 'Sneaker', 'Bag', 'Ankle Boot')"
   ]
  },
  {
   "cell_type": "code",
   "execution_count": 16,
   "id": "db5256fd",
   "metadata": {},
   "outputs": [],
   "source": [
    "# Helper function for inline image display\n",
    "def matplotlib_imshow(img, one_channel=False):\n",
    "    if one_channel:\n",
    "        img = img.mean(dim=0)\n",
    "    img = img / 2 + 0.5     # unnormalize\n",
    "    npimg = img.numpy()\n",
    "    if one_channel:\n",
    "        plt.imshow(npimg, cmap=\"Greys\")\n",
    "    else:\n",
    "        plt.imshow(np.transpose(npimg, (1, 2, 0)))"
   ]
  },
  {
   "cell_type": "code",
   "execution_count": 17,
   "id": "99f266fd",
   "metadata": {},
   "outputs": [
    {
     "data": {
      "image/png": "[encoded data removed]",
      "text/plain": [
       "<Figure size 640x480 with 1 Axes>"
      ]
     },
     "metadata": {},
     "output_type": "display_data"
    }
   ],
   "source": [
    "# Extract a batch of 4 images\n",
    "images, labels = next(iter(training_loader))\n",
    "\n",
    "# Create a grid from the images and show them\n",
    "img_grid = torchvision.utils.make_grid(images)\n",
    "matplotlib_imshow(img_grid, one_channel=True)"
   ]
  },
  {
   "cell_type": "code",
   "execution_count": 20,
   "id": "f32ffa76",
   "metadata": {},
   "outputs": [],
   "source": [
    "# 实例化，输入存储的路径\n",
    "writer = SummaryWriter('./runs/fashion_mnist_experiment_3')\n",
    "\n",
    "\n",
    "# 将img_grid添加到里面\n",
    "writer.add_image('Four Fashion-MNIST Images', img_grid)\n",
    "writer.flush()\n",
    "\n",
    "# %load_ext tensorboard\n",
    "# %tensorboard --logdir runs/fashion_mnist_experiment_3\n",
    "\n",
    "# To view, start TensorBoard on the command line with:\n",
    "#   tensorboard --logdir=runs\n",
    "# ...and open a browser tab to http://localhost:6006/\n",
    "\n"
   ]
  },
  {
   "cell_type": "markdown",
   "id": "5a679039",
   "metadata": {},
   "source": [
    "如果你在命令行启动TensorBoard，并在新的浏览器标签页中打开它（通常位于[localhost:6006]），你应该能在IMAGES标签下看到图像网格。\n",
    "\n",
    "## 二、用标量绘图以可视化训练和显示模型中权重和梯度变化\n",
    "\n",
    "TensorBoard对于追踪你的训练进度和效果非常有用。下面，我们将运行一个训练循环，跟踪一些指标，并保存供TensorBoard使用的数据。\n",
    "\n",
    "让我们定义一个模型来对我们的图像瓷砖进行分类，以及用于训练的优化器和损失函数："
   ]
  },
  {
   "cell_type": "code",
   "execution_count": 8,
   "id": "dd912e29",
   "metadata": {},
   "outputs": [],
   "source": [
    "class Net(nn.Module):\n",
    "    def __init__(self):\n",
    "        super(Net, self).__init__()\n",
    "        self.conv1 = nn.Conv2d(1, 6, 5)\n",
    "        self.pool = nn.MaxPool2d(2, 2)\n",
    "        self.conv2 = nn.Conv2d(6, 16, 5)\n",
    "        self.fc1 = nn.Linear(16 * 4 * 4, 120)\n",
    "        self.fc2 = nn.Linear(120, 84)\n",
    "        self.fc3 = nn.Linear(84, 10)\n",
    "\n",
    "    def forward(self, x):\n",
    "        x = self.pool(F.relu(self.conv1(x)))\n",
    "        x = self.pool(F.relu(self.conv2(x)))\n",
    "        x = x.view(-1, 16 * 4 * 4)\n",
    "        x = F.relu(self.fc1(x))\n",
    "        x = F.relu(self.fc2(x))\n",
    "        x = self.fc3(x)\n",
    "        return x\n",
    "    \n",
    "\n",
    "net = Net()\n",
    "criterion = nn.CrossEntropyLoss()\n",
    "optimizer = optim.SGD(net.parameters(), lr=0.001, momentum=0.9)"
   ]
  },
  {
   "cell_type": "markdown",
   "id": "72b483d1",
   "metadata": {},
   "source": [
    "下面用定义好的网络训练一轮，看下训练损失和验证损失"
   ]
  },
  {
   "cell_type": "code",
   "execution_count": null,
   "id": "2a1172c2",
   "metadata": {},
   "outputs": [],
   "source": [
    "from tqdm.notebook import tqdm\n",
    "print(len(validation_loader))\n",
    "\n",
    "for epoch in range(50):\n",
    "    loss_sum = 0.0\n",
    "    valid_loss_sum = 0.0\n",
    "\n",
    "    for i, data in tqdm(enumerate(training_loader), desc=\"训练批次：\", total=len(training_loader)):\n",
    "        # basic training loop\n",
    "        inputs, labels = data\n",
    "        predict_labels = net(inputs)\n",
    "\n",
    "        optimizer.zero_grad()\n",
    "        loss = criterion(predict_labels, labels)\n",
    "        loss.backward()\n",
    "        optimizer.step()\n",
    "\n",
    "        loss_sum += loss.item()\n",
    "        \n",
    "        # tensorboard写入权重和梯度\n",
    "        if i % 999 == 0:\n",
    "            for name, param in net.named_parameters():\n",
    "                writer.add_histogram(f\"{name}_weight:\", param, epoch * len(training_loader) + i)\n",
    "                writer.add_histogram(f\"{name}_grad:\", param.grad, epoch * len(training_loader) + i)\n",
    "    with torch.no_grad():\n",
    "        for i, data in enumerate(validation_loader, 0):\n",
    "            inputs, labels = data\n",
    "            outputs = net(inputs)\n",
    "            valid_loss = criterion(outputs, labels)\n",
    "            valid_loss_sum += valid_loss.item()\n",
    "\n",
    "    # 写入训练损失和测试集损失\n",
    "    writer.add_scalars(\"训练损失 VS 测试集损失\", {\"Traning_loss\":loss_sum, \"Valid_loss\": valid_loss_sum}, epoch)\n",
    "    # 确保写入缓存\n",
    "    writer.flush()\n",
    "   "
   ]
  },
  {
   "cell_type": "markdown",
   "id": "cac3294f",
   "metadata": {},
   "source": [
    "切换到你已打开的TensorBoard并查看SCALARS、DISTRIBUTIONS、HISTOGRAMS标签页。\n",
    "\n",
    "## 三、可视化你的模型\n",
    "TensorBoard 还可以用来检查模型内部的数据流。要做到这一点，使用 `add_graph()` 方法，传入你的模型和样本输入。当你打开"
   ]
  },
  {
   "cell_type": "code",
   "execution_count": null,
   "id": "f4ebbf4e",
   "metadata": {},
   "outputs": [],
   "source": [
    "# Again, grab a single mini-batch of images\n",
    "images, labels = next(iter(training_loader))\n",
    "\n",
    "# add_graph() will trace the sample input through your model,\n",
    "# and render it as a graph.\n",
    "writer.add_graph(net, images)\n",
    "writer.flush()"
   ]
  },
  {
   "cell_type": "markdown",
   "id": "1e64db84",
   "metadata": {},
   "source": [
    "当你切换到TensorBoard时，你应该能看到一个GRAPHS标签。双击“NET”节点以查看模型内的层和数据流。\n",
    "\n",
    "## 四、利用嵌入(Embeddings)可视化你的数据集\n",
    "\n",
    "我们正在使用的28x28图像瓷砖可以被建模为784维向量（28 * 28 = 784）。将此投影到较低维度表示可能会很有启发性。`add_embedding()`方法会将一组数据投影到方差最高的三个维度上，并将其显示为一个交互式的3D图表。`add_embedding()`方法通过自动投影到方差最高的三个维度上来实现这一点。\n",
    "\n",
    "下面，我们将从数据集中抽取样本，并生成这样的嵌入："
   ]
  },
  {
   "cell_type": "code",
   "execution_count": 21,
   "id": "de5c4eac",
   "metadata": {},
   "outputs": [],
   "source": [
    "# Select a random subset of data and corresponding labels\n",
    "def select_n_random(data, labels, n=100):\n",
    "    assert len(data) == len(labels)\n",
    "\n",
    "    perm = torch.randperm(len(data))\n",
    "    return data[perm][:n], labels[perm][:n]\n",
    "\n",
    "# Extract a random subset of data\n",
    "images, labels = select_n_random(training_set.data, training_set.targets)\n",
    "\n",
    "# get the class labels for each image\n",
    "class_labels = [classes[label] for label in labels]\n",
    "\n",
    "# log embeddings\n",
    "features = images.view(-1, 28 * 28)：\n",
    "writer.add_embedding(features,\n",
    "                    metadata=class_labels,\n",
    "                    label_img=images.unsqueeze(1))\n",
    "writer.flush()\n",
    "writer.close()"
   ]
  },
  {
   "cell_type": "markdown",
   "id": "41fe8f30",
   "metadata": {},
   "source": [
    "现在如果你切换到TensorBoard并选择PROJECTOR标签，你应该能够看到投影的3D表示。你可以旋转和缩放模型。在大尺度和小尺度下检查它，看看是否能在投影数据和标签的聚类中发现模式。\n",
    "\n",
    "**注释：** 为了获得更好的可视性，建议你：\n",
    "* 从左侧的“Color by”下拉菜单中选择“label”\n",
    "* 在顶部切换夜间模式图标，将浅色图像置于深色背景之上。\n",
    "\n",
    "### 其他资源\n",
    "\n",
    "想要了解更多详情，可以查阅：\n",
    "* [PyTorch文档关于`torch.utils.tensorboard.SummaryWriter`](https://pytorch.org/docs/stable/tensorboard.html?highlight=summarywriter)于[PyTorch.org](https://pytorch.org)\n",
    "* [PyTorch.org教程](https://pytorch.org/tutorials/)中的Tensorboard教程内容\n",
    "* 关于TensorBoard的更多信息，请参阅[TensorBoard文档](https://www.tensorflow.org/tensorboard)"
   ]
  }
 ],
 "metadata": {
  "kernelspec": {
   "display_name": "jupyter",
   "language": "python",
   "name": "python3"
  },
  "language_info": {
   "codemirror_mode": {
    "name": "ipython",
    "version": 3
   },
   "file_extension": ".py",
   "mimetype": "text/x-python",
   "name": "python",
   "nbconvert_exporter": "python",
   "pygments_lexer": "ipython3",
   "version": "3.8.19"
  }
 },
 "nbformat": 4,
 "nbformat_minor": 5
}
