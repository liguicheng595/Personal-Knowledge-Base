{
 "cells": [
  {
   "cell_type": "markdown",
   "id": "873cb3a7",
   "metadata": {},
   "source": [
    "# Tensor\n",
    "\n",
    "本部分讲解Pytroch的核心数据结构tensor，了解tensor的构成，属性，运算等内容。\n",
    "\n",
    "## 一.  Tensor初认识\n",
    "Tensor 中文被翻译为张量。张量在不同学科中有不同的意义，在深度学习中张量表示的是一个多维数组，它是标量、向量、矩阵的拓展。标量是零维张量，向量是一维张量，矩阵是二维张量，一个RGB图像的数组就是一个三维张量，第一维是图像的高，第二维是图像的宽，第三维是图像的颜色通道。\n",
    "\n",
    "在pytorch中，有两个张量的相关概念极其容易混淆，分别是`torch.Tensor`和`torch.tensor`。其实，通过命名规范，可知道`torch.Tensor`是Python的一个类, `torch.tensor`是Python的一个函数。通常我们调用`torch.tensor`进行创建张量，而不直接调用`torch.Tensor`类进行创建。为了进一步区分两者，我们来看看它们代码实现。\n",
    "\n",
    "**torch.Tensor**：类定义与`torch/_tensor.py#L80`，它继承`torch._C._TensorBase`，这里看到_C就知道要接触C++代码了。\n",
    "\n",
    "<img src=\"https://tingsongyu.github.io/PyTorch-Tutorial-2nd/chapter-2/imgs/Tensor.png\" width=\"400\" /> \n",
    "\n",
    "跳转到torch/C/\\_init__.pyi #L839 可以看到：\n",
    "``` python\n",
    "# Defined in torch/csrc/autograd/python_variable.cpp\n",
    "class _TensorBase(metaclass=_TensorMeta):\n",
    "    requires_grad: _bool\n",
    "    shape: Size\n",
    "```\n",
    "张量的定义和底层C++实现是在python_variable.cpp代码中。\n",
    "\n",
    "**torch.tensor**：pytorch的一个函数，用于将数据变为张量形式的数据，例如list, tuple, NumPy ndarray, scalar等。\n",
    "\n",
    "同样，`torch.tensor`的底层实现也是[C++代码](https://github.com/pytorch/pytorch/tree/master/torch/csrc/autograd)，具体实现位于`torch_C_VariableFunctions.pyi`文件。如2.1节所述，.pyi文件用于Python类型检查，而其底层实现在对应的C++代码中。\n",
    "\n",
    "**推荐用法:**\n",
    "- 如果你需要从现有数据创建张量，使用 torch.tensor。\n",
    "- 如果你需要创建一个张量，但尚不想初始化其内容（例如，预分配张量并稍后填充），可以考虑使用其他初始化函数，如 torch.zeros, torch.ones, 或 torch.empty。"
   ]
  },
  {
   "cell_type": "markdown",
   "id": "7fc3d43d",
   "metadata": {},
   "source": [
    "## 二.Tensor的作用\n",
    "tensor之于pytorch等同于ndarray之于numpy，它是pytorch中最核心的数据结构，用于表达各类数据，如输入数据、模型的参数、模型的特征图、模型的输出等。**这里边有一个很重要的数据，就是模型的参数**。对于模型的参数，我们需要更新它们，而更新操作需要记录梯度，梯度的记录功能正是被张量所实现的（求梯度是autograd实现的）。"
   ]
  },
  {
   "cell_type": "markdown",
   "id": "6b724a06",
   "metadata": {},
   "source": [
    "## 三. Tensor的属性\n",
    "\n",
    "如下图可知，共有data, dtype，shape, grad, grad_fn, requires_grad, is_leaf, device共八大主要属性。\n",
    "![tensor的结构](https://tingsongyu.github.io/PyTorch-Tutorial-2nd/chapter-2/imgs/tensor-arch.png)\n",
    "\n",
    "\n",
    "- data：多维数组，最核心的属性，其他属性都是为其服务的;\n",
    "\n",
    "- dtype：多维数组的数据类型，tensor数据类型如下，常用到的三种已经用红框标注出来；\n",
    "\n",
    "- shape：多维数组的形状;\n",
    "\n",
    "- device: tensor所在的设备，cpu或cuda;\n",
    "\n",
    "- grad，grad_fn，is_leaf和requires_grad就与Variable一样，**都是梯度计算中所用到的**。\n",
    "\n",
    "张量的属性还有很多，大家可以通过Pycharm的debug功能进行查看\n",
    "\n"
   ]
  },
  {
   "cell_type": "markdown",
   "id": "9f8da15d",
   "metadata": {},
   "source": [
    "## 四. Tensor的相关函数\n",
    "\n",
    "接下来开始学习各类张量的api，主要参考[官方文档](https://pytorch.org/docs/stable/torch.html)，通过右边目录栏可以看出有以下几个部分。\n",
    "- torchTensors\n",
    "- Generators\n",
    "- Random sampling\n",
    "- Serialization\n",
    "- Parallelism\n",
    "- Locally disabling gradient computation\n",
    "- Math operations\n",
    "- Utilities\n",
    "\n",
    "里面有上百个函数，这里只挑高频使用的进行讲解，建议大家自行浏览一遍官方文档，看看都有哪些功能，便于今后使用到的时候不必重复造轮子。"
   ]
  },
  {
   "cell_type": "markdown",
   "id": "d12611e1",
   "metadata": {},
   "source": [
    "### 4.1 数据类型\n",
    "\n",
    "以下是常用的torch数据类型：\n",
    "\n",
    "|   Data type   |      dtype     |\n",
    "|:---------------|-------------------|\n",
    "|   32位浮点型      | `torch.float32` or `torch.float`|\n",
    "|   64位浮点型      | `torch.float64` or `torch.double`|\n",
    "|   16位浮点型      | `torch.float16` or `torch.half`|\n",
    "|   32位虚数       | `torch.complex32 ` or `torch.chalf`|\n",
    "|   8位整型（有符号） | `torch.int8 `|\n",
    "|   16位整型（有符号  | `torch.int16 ` or `torch.short`|\n",
    "|   32位整型（有符号）| `torch.int32 ` or `torch.int`|\n",
    "|   64位整型 （有符号）| `torch.int64 ` or `torch.long`|\n",
    "|   布尔值          | `torch.bool `|"
   ]
  },
  {
   "cell_type": "markdown",
   "id": "c9d6abec",
   "metadata": {},
   "source": [
    "### 4.2 张量的创建\n",
    "### 4.2.1 直接创建\n",
    "\n",
    "**torch.tensor**\n",
    "`torch.tensor(data, dtype=None, device=None, requires_grad=False, pin_memory=False)`\n",
    "   - data(arry_like)- tensor的初始数据，可以是list,tuple, numpy array, scalar或其他类型\n",
    "   - dtype(torch.dtype, optional) - tensor的数据类型，如torch.uint8, torch.float, torch.long等\n",
    "   - device (torch.device, optional) – 决定tensor位于cpu还是gpu。如果为None，将会采用默认值，默认值在torch.set_default_tensor_type()中设置，默认为 cpu。\n",
    "   - requires_grad (bool, optional) – 决定是否需要计算梯度。\n",
    "   - pin_memory (bool, optional) – 是否将tensor存于锁页内存。这与内存的存储方式有关，通常为False\n",
    "   \n"
   ]
  },
  {
   "cell_type": "code",
   "execution_count": 6,
   "id": "9bf179b6",
   "metadata": {},
   "outputs": [
    {
     "name": "stdout",
     "output_type": "stream",
     "text": [
      "tensor([[ 1., -1.],\n",
      "        [ 2., -2.]]) torch.float32\n",
      "tensor([[ 1., -1.],\n",
      "        [ 2., -2.]]) torch.float32\n",
      "tensor([[1, 2, 3],\n",
      "        [4, 5, 6]], dtype=torch.int32) torch.int32\n"
     ]
    }
   ],
   "source": [
    "import torch\n",
    "import numpy as np\n",
    "\n",
    "l = [[1., -1.], [2., -2.]]\n",
    "t_from_l = torch.tensor(l)\n",
    "t = ((1., -1.), (2., -2.))\n",
    "t_from_t = torch.tensor(t)\n",
    "arr = np.array([[1, 2, 3], [4, 5, 6]])\n",
    "t_from_arr = torch.tensor(arr)\n",
    "\n",
    "print(t_from_l, t_from_l.dtype)\n",
    "print(t_from_t, t_from_t.dtype)\n",
    "print(t_from_arr, t_from_arr.dtype)"
   ]
  },
  {
   "cell_type": "markdown",
   "id": "a7c8906d",
   "metadata": {},
   "source": [
    "**torch.from_numpy**\n",
    "\n",
    "还有一种常用的通过numpy创建tensor方法是torch.from_numpy()。这里需要特别注意的是，**创建的tensor和原array共享同一块内存（The returned tensor and ndarray share the same memory. ）**，即当改变array里的数值，tensor中的数值也会被改变。"
   ]
  },
  {
   "cell_type": "code",
   "execution_count": 7,
   "id": "1ed0ed40",
   "metadata": {},
   "outputs": [
    {
     "name": "stdout",
     "output_type": "stream",
     "text": [
      "numpy array:  [[1 2 3]\n",
      " [4 5 6]]\n",
      "tensor :  tensor([[1, 2, 3],\n",
      "        [4, 5, 6]], dtype=torch.int32)\n",
      "\n",
      "修改arr\n",
      "numpy array:  [[0 2 3]\n",
      " [4 5 6]]\n",
      "tensor :  tensor([[0, 2, 3],\n",
      "        [4, 5, 6]], dtype=torch.int32)\n",
      "\n",
      "修改tensor\n",
      "numpy array:  [[-1  2  3]\n",
      " [ 4  5  6]]\n",
      "tensor :  tensor([[-1,  2,  3],\n",
      "        [ 4,  5,  6]], dtype=torch.int32)\n"
     ]
    }
   ],
   "source": [
    "arr = np.array([[1, 2, 3], [4, 5, 6]])\n",
    "t_from_numpy = torch.from_numpy(arr)\n",
    "print(\"numpy array: \", arr)\n",
    "print(\"tensor : \", t_from_numpy)\n",
    "print(\"\\n修改arr\")\n",
    "arr[0, 0] = 0\n",
    "print(\"numpy array: \", arr)\n",
    "print(\"tensor : \", t_from_numpy)\n",
    "print(\"\\n修改tensor\")\n",
    "t_from_numpy[0, 0] = -1\n",
    "print(\"numpy array: \", arr)\n",
    "print(\"tensor : \", t_from_numpy)"
   ]
  },
  {
   "cell_type": "markdown",
   "id": "60b13307",
   "metadata": {},
   "source": [
    "### 4.2.2 依数值创建\n",
    "\n",
    "\n",
    "**torch.zeros():**\n",
    "\n",
    "`torch.zeros(*size, out=None, dtype=None, layout=torch.strided, device=None, requires_grad=False)`\n",
    "\n",
    "功能：依给定的size创建一个全0的tensor，**默认数据类型为torch.float32（也称为torch.float）**。\n",
    "\n",
    "主要参数：\n",
    "\n",
    "   - layout(torch.layout, optional) - 参数表明张量在内存中采用何种布局方式。常用的有torch.strided, torch.sparse_coo等。\n",
    "\n",
    "   - out(tensor, optional) - 输出的tensor，即该函数返回的tensor可以通过out进行赋值，请看例子。"
   ]
  },
  {
   "cell_type": "code",
   "execution_count": 10,
   "id": "e2dd84fa",
   "metadata": {},
   "outputs": [
    {
     "name": "stdout",
     "output_type": "stream",
     "text": [
      "tensor([[0, 0, 0],\n",
      "        [0, 0, 0],\n",
      "        [0, 0, 0]]) \n",
      " tensor([[0, 0, 0],\n",
      "        [0, 0, 0],\n",
      "        [0, 0, 0]])\n",
      "2091989478352 2091989478352\n"
     ]
    }
   ],
   "source": [
    "o_t = torch.tensor([1])\n",
    "t = torch.zeros((3,3), out=o_t)\n",
    "print(t, '\\n', o_t)\n",
    "print(id(t), id(o_t))"
   ]
  },
  {
   "cell_type": "markdown",
   "id": "c99c39c9",
   "metadata": {},
   "source": [
    "可以看到，通过out参数的设置将新创建的zero张量赋值给了o_t，两者共享相同的内存.\n",
    "\n",
    "**torch.zeros_like()**\n",
    "\n",
    "`torch.zeros_like(input, dtype=None, layout=None, device=None, requires_grad=False)`\n",
    "\n",
    "功能：依input的size创建全0的tensor。\n",
    "\n",
    "主要参数：\n",
    "\n",
    "input(Tensor) - 创建的tensor与intput具有相同的形状。\n",
    "\n",
    "example:"
   ]
  },
  {
   "cell_type": "code",
   "execution_count": 11,
   "id": "c835b5f8",
   "metadata": {},
   "outputs": [
    {
     "name": "stdout",
     "output_type": "stream",
     "text": [
      "tensor([[ 1., -1.],\n",
      "        [ 2., -2.]]) \n",
      " tensor([[0., 0.],\n",
      "        [0., 0.]])\n"
     ]
    }
   ],
   "source": [
    "t1 = torch.tensor([[1., -1.],[2., -2.]])\n",
    "t2 = torch.zeros_like(t1)\n",
    "\n",
    "print(t1, '\\n', t2)"
   ]
  },
  {
   "cell_type": "markdown",
   "id": "99958efc",
   "metadata": {},
   "source": [
    "除了能够创建全0之外，还可以通过`torch.ones()`和`torch.ones_like()`创建全1，用法和创建全0一致。\n",
    "\n",
    "**troch.full()**\n",
    "\n",
    "`torch.full(size, fill_value, out=None, dtype=None, layout=torch.strided, device=None, requires_grad=False)`\n",
    "\n",
    "功能：依给定的size创建一个值全为fill_value的tensor。\n",
    "\n",
    "主要参数:\n",
    "\n",
    "siz (int...) - tensor的形状。\n",
    "\n",
    "fill_value - 所创建tensor的值\n",
    "\n",
    "out(tensor, optional) - 输出的tensor，即该函数返回的tensor可以通过out进行赋值。\n",
    "\n",
    "**troch.full_like()**\n",
    "\n",
    "`torch.full_like(input, fill_value, out=None, dtype=None, layout=torch.strided, device=None, requires_grad=False)`"
   ]
  },
  {
   "cell_type": "code",
   "execution_count": 13,
   "id": "4e7c3328",
   "metadata": {},
   "outputs": [
    {
     "name": "stdout",
     "output_type": "stream",
     "text": [
      "tensor([[2.4000, 2.4000, 2.4000, 2.4000],\n",
      "        [2.4000, 2.4000, 2.4000, 2.4000],\n",
      "        [2.4000, 2.4000, 2.4000, 2.4000]])\n",
      "tensor([[2.5500, 2.5500],\n",
      "        [2.5500, 2.5500]])\n"
     ]
    }
   ],
   "source": [
    "import torch\n",
    "\n",
    "full_t = torch.full((3,4), 2.4)\n",
    "t = torch.tensor([[1., -1.], [2., -2.]])\n",
    "full_like_t = torch.full_like(t, 2.55)\n",
    "\n",
    "print(full_t)\n",
    "print(full_like_t)"
   ]
  },
  {
   "cell_type": "markdown",
   "id": "7d0fb91e",
   "metadata": {},
   "source": [
    "**torch.arange()**\n",
    "\n",
    "`torch.arange(start=0, end, step=1, out=None, dtype=None, layout=torch.strided, device=None, requires_grad=False)`\n",
    "\n",
    "功能：创建等差的1维张量，长度为 (end-start)/step，需要注意数值区间为[start, end)。\n",
    "\n",
    "主要参数：\n",
    "\n",
    "   - start (Number) – 数列起始值，默认值为0。the starting value for the set of points. Default: 0.\n",
    "   - end (Number) – 数列的结束值。\n",
    "   - step (Number) – 数列的等差值，默认值为1。\n",
    "   - out (Tensor, optional) – 输出的tensor，即该函数返回的tensor可以通过out进行赋值。"
   ]
  },
  {
   "cell_type": "code",
   "execution_count": 14,
   "id": "0afa892a",
   "metadata": {},
   "outputs": [
    {
     "name": "stdout",
     "output_type": "stream",
     "text": [
      "tensor([ 0,  2,  4,  6,  8, 10])\n"
     ]
    }
   ],
   "source": [
    "import torch\n",
    "\n",
    "arange_t = torch.arange(0, 11, 2)\n",
    "print(arange_t)"
   ]
  },
  {
   "cell_type": "markdown",
   "id": "70e68a28",
   "metadata": {},
   "source": [
    "**torch.linspace()**\n",
    "\n",
    "`torch.linspace(start, end, steps=100, out=None, dtype=None, layout=torch.strided, device=None, requires_grad=False)`\n",
    "\n",
    "功能：创建均分的1维张量，长度为steps，区间为[start, end]。\n",
    "\n",
    "**torch.logspace()**\n",
    "\n",
    "`torch.logspace(start, end, steps=100, base=10.0, out=None, dtype=None, layout=torch.strided, device=None, requires_grad=False)`\n",
    "\n",
    "功能：创建对数均分的1维张量，长度为steps, 底为base。\n"
   ]
  },
  {
   "cell_type": "code",
   "execution_count": 34,
   "id": "32d63565",
   "metadata": {},
   "outputs": [
    {
     "data": {
      "image/png": "[encoded data removed]",
      "text/plain": [
       "<Figure size 640x480 with 1 Axes>"
      ]
     },
     "metadata": {},
     "output_type": "display_data"
    }
   ],
   "source": [
    "import matplotlib.pyplot as plt\n",
    "\n",
    "linspace_t = torch.linspace(0, 10, steps=10)\n",
    "logspace_t = torch.logspace(0, 1, steps=10)\n",
    "\n",
    "plt.scatter(range(0, 10),linspace_t.detach())\n",
    "plt.scatter(range(0, 10), logspace_t.detach())\n",
    "plt.show()\n"
   ]
  },
  {
   "cell_type": "markdown",
   "id": "41832948",
   "metadata": {},
   "source": [
    "**torch.eye()**\n",
    "\n",
    "`torch.eye(n, m=None, out=None, dtype=None, layout=torch.strided, device=None, requires_grad=False)**`\n",
    "\n",
    "功能：创建单位对角矩阵。\n",
    "\n",
    "主要参数：\n",
    "\n",
    "n (int) - 矩阵的行数\n",
    "\n",
    "m (int, optional) - 矩阵的列数，默认值为n，即默认创建一个方阵\n",
    "\n",
    "example:"
   ]
  },
  {
   "cell_type": "code",
   "execution_count": 36,
   "id": "5b0a3270",
   "metadata": {},
   "outputs": [
    {
     "name": "stdout",
     "output_type": "stream",
     "text": [
      "tensor([[1., 0., 0.],\n",
      "        [0., 1., 0.],\n",
      "        [0., 0., 1.]])\n",
      "tensor([[1., 0., 0.],\n",
      "        [0., 1., 0.],\n",
      "        [0., 0., 1.]])\n"
     ]
    }
   ],
   "source": [
    "print(torch.eye(3))\n",
    "print(torch.eye(3, 3))"
   ]
  },
  {
   "cell_type": "markdown",
   "id": "0b42421d",
   "metadata": {},
   "source": [
    "**torch.empty**\n",
    "\n",
    "`torch.empty(*size, out=None, dtype=None, layout=torch.strided, device=None, requires_grad=False, pin_memory=False)`\n",
    "\n",
    "功能：依size创建“空”张量，这里的“空”指的是不会进行初始化赋值操作。\n",
    "\n",
    "**torch.empty_like()**\n",
    "\n",
    "`torch.empty_like(input, dtype=None, layout=None, device=None, requires_grad=False)`\n",
    "\n",
    "**torch.empty_strided**\n",
    "\n",
    "`torch.empty_strided(size, stride, dtype=None, layout=None, device=None, requires_grad=False, pin_memory=False)`\n",
    "\n",
    "功能: 创建一个具有指定形状、步幅（stride）和数据类型的张量。"
   ]
  },
  {
   "cell_type": "code",
   "execution_count": 40,
   "id": "580053fd",
   "metadata": {},
   "outputs": [
    {
     "name": "stdout",
     "output_type": "stream",
     "text": [
      "tensor([[2.0938e+34, 1.4111e-42, 0.0000e+00],\n",
      "        [1.8750e+00, 0.0000e+00, 2.0000e+00]])\n",
      "tensor([[2.0931e+34, 1.4111e-42, 4.2039e-45],\n",
      "        [5.6052e-45, 7.0065e-45, 8.4078e-45]])\n"
     ]
    }
   ],
   "source": [
    "print(torch.empty(2, 3))\n",
    "print(torch.empty_strided((2,3), (3,1)))"
   ]
  },
  {
   "cell_type": "markdown",
   "id": "83e1d628",
   "metadata": {},
   "source": [
    "### 4.2.3 依概率分布创建\n",
    "\n",
    "**torch.norm()**\n",
    "\n",
    "`torch.normal(mean, std, out=None)`\n",
    "\n",
    "功能：为每一个元素以给定的mean和std用**高斯分布生成随机数**\n",
    "\n",
    "主要参数：\n",
    "\n",
    "mean (Tensor or Float) - 高斯分布的均值，\n",
    "\n",
    "std (Tensor or Float) - 高斯分布的标准差\n",
    "\n",
    "特别注意事项：\n",
    "\n",
    "mean和std的取值分别有2种，共4种组合，不同组合产生的效果也不同，需要注意\n",
    "\n",
    "mean为张量，std为张量，torch.normal(mean, std, out=None)，每个元素从不同的高斯分布采样，分布的均值和标准差由mean和std对应位置元素的值确定；\n",
    "\n",
    "mean为张量，std为标量，torch.normal(mean, std=1.0, out=None)，每个元素采用相同的标准差，不同的均值；\n",
    "\n",
    "mean为标量，std为张量，torch.normal(mean=0.0, std, out=None)， 每个元素采用相同均值，不同标准差；\n",
    "\n",
    "mean为标量，std为标量，torch.normal(mean, std, size, *, out=None) ，从一个高斯分布中生成大小为size的张量；"
   ]
  },
  {
   "cell_type": "code",
   "execution_count": 41,
   "id": "7d19a7ea",
   "metadata": {},
   "outputs": [
    {
     "name": "stdout",
     "output_type": "stream",
     "text": [
      "mean: tensor([ 1.,  2.,  3.,  4.,  5.,  6.,  7.,  8.,  9., 10.]), \n",
      "std: tensor([1.0000, 0.9000, 0.8000, 0.7000, 0.6000, 0.5000, 0.4000, 0.3000, 0.2000,\n",
      "        0.1000]), \n",
      "normal: tensor([2.2586, 2.0777, 4.2399, 5.0085, 5.7588, 5.8595, 6.7206, 8.1392, 8.9401,\n",
      "        9.9177])\n"
     ]
    }
   ],
   "source": [
    "import torch\n",
    "\n",
    "mean = torch.arange(1, 11.)\n",
    "std = torch.arange(1, 0, -0.1)\n",
    "normal = torch.normal(mean=mean, std=std)\n",
    "print(\"mean: {}, \\nstd: {}, \\nnormal: {}\".format(mean, std, normal))"
   ]
  },
  {
   "cell_type": "markdown",
   "id": "3252ba10",
   "metadata": {},
   "source": [
    "**torch.rand()**\n",
    "\n",
    "`torch.rand(*size, out=None, dtype=None, layout=torch.strided, device=None, requires_grad=False)`\n",
    "\n",
    "功能：在区间[0, 1)上，生成均匀分布。\n",
    "\n",
    "**torch.rand_like()**\n",
    "\n",
    "**torch.rand()**\n",
    "\n",
    "torch.randint(low=0, high, size, out=None, dtype=None, layout=torch.strided, device=None, requires_grad=False)\n",
    "\n",
    "功能：在区间[low, high)上，生成整数的均匀分布。\n",
    "\n",
    "**torch.randint_like()**\n",
    "\n",
    "**torch.randint_like()**\n",
    "\n",
    "torch.randn(*size, out=None, dtype=None, layout=torch.strided, device=None, requires_grad=False)\n",
    "\n",
    "功能：生成形状为size的标准正态分布张量。\n"
   ]
  },
  {
   "cell_type": "markdown",
   "id": "52c965c7",
   "metadata": {},
   "source": [
    "## 五.张量的操作\n",
    "\n",
    "主要包括拼接（concat，stack），拆分（chunk，split），改变形状（permute，reshape）等操作，具体不仔细列举，使用时具体情况进行分析。\n",
    "\n",
    "| 名称  |  用途  |\n",
    "|:------:|:---------:|\n",
    "|  cat  | 用于向量的特征融合拼接|\n",
    "|  concat  | 向量的按着某一维度特征融合拼接|\n",
    "|  column_stack  | 水平堆叠张量。即第二个维度上增加，等同于torch.hstack。|\n",
    "|  vstack   | 垂直堆叠 |\n",
    "|  stack   | 在新的轴上拼接张量。与hstack\\vstack不同，它是新增一个轴。默认从第0个轴插入新轴。|\n",
    "|  chunk  | 将向量按某一维度进行拆分|\n",
    "|  dsplit  | 类似numpy.dsplit().， 将张量按索引或指定的份数进行切分|\n",
    "|  split  | 按给定的大小切分出多个张量|\n",
    "|  permute  | 交换轴|\n",
    "|  reshape | 改变形状，要求改变前后的两个tensor元素相等|\n",
    "| transpose  | 用于交换张量中的两个维度|\n",
    "|  unsqueeze  | 增加一个轴，常用于匹配数据维度|\n",
    "|  squeeze  | 去除张量中所有（指定维度）大小为1的维度|\n",
    "| nonzero |返回非零的索引|"
   ]
  },
  {
   "cell_type": "code",
   "execution_count": 4,
   "id": "40da9a28",
   "metadata": {},
   "outputs": [
    {
     "name": "stdout",
     "output_type": "stream",
     "text": [
      "torch.concat(dim=0):\n",
      " tensor([[ 1,  2],\n",
      "        [ 3,  4],\n",
      "        [ 5,  6],\n",
      "        [ 7,  8],\n",
      "        [ 9, 10],\n",
      "        [11, 12]])\n",
      "torch.concat(dim=1):\n",
      " tensor([[ 1,  2,  7,  8],\n",
      "        [ 3,  4,  9, 10],\n",
      "        [ 5,  6, 11, 12]])\n",
      "torch.vstack():\n",
      " tensor([[ 1,  2],\n",
      "        [ 3,  4],\n",
      "        [ 5,  6],\n",
      "        [ 7,  8],\n",
      "        [ 9, 10],\n",
      "        [11, 12]])\n",
      "torch.column_stack():\n",
      " tensor([[ 1,  2,  7,  8],\n",
      "        [ 3,  4,  9, 10],\n",
      "        [ 5,  6, 11, 12]])\n",
      "torch.stack():\n",
      " tensor([[[ 1,  2],\n",
      "         [ 3,  4],\n",
      "         [ 5,  6]],\n",
      "\n",
      "        [[ 7,  8],\n",
      "         [ 9, 10],\n",
      "         [11, 12]]])\n",
      "Chunk 1:\n",
      "tensor([[1, 2, 3, 4],\n",
      "        [5, 6, 7, 8]])\n",
      "Chunk 2:\n",
      "tensor([[ 9, 10, 11, 12],\n",
      "        [13, 14, 15, 16]])\n",
      "Split 1:\n",
      "tensor([[1, 2, 3, 4]])\n",
      "Split 2:\n",
      "tensor([[ 5,  6,  7,  8],\n",
      "        [ 9, 10, 11, 12]])\n",
      "Split 3:\n",
      "tensor([[13, 14, 15, 16]])\n",
      "torch.permute:\n",
      " tensor([[[ 1, 13],\n",
      "         [ 5, 17],\n",
      "         [ 9, 21]],\n",
      "\n",
      "        [[ 2, 14],\n",
      "         [ 6, 18],\n",
      "         [10, 22]],\n",
      "\n",
      "        [[ 3, 15],\n",
      "         [ 7, 19],\n",
      "         [11, 23]],\n",
      "\n",
      "        [[ 4, 16],\n",
      "         [ 8, 20],\n",
      "         [12, 24]]])\n",
      "torch.transpose:\n",
      " tensor([[[ 1, 13],\n",
      "         [ 5, 17],\n",
      "         [ 9, 21]],\n",
      "\n",
      "        [[ 2, 14],\n",
      "         [ 6, 18],\n",
      "         [10, 22]],\n",
      "\n",
      "        [[ 3, 15],\n",
      "         [ 7, 19],\n",
      "         [11, 23]],\n",
      "\n",
      "        [[ 4, 16],\n",
      "         [ 8, 20],\n",
      "         [12, 24]]])\n"
     ]
    }
   ],
   "source": [
    "import torch\n",
    "\n",
    "tensor_e = torch.tensor([[1, 2], [3, 4], [5, 6]])\n",
    "tensor_f = torch.tensor([[7, 8], [9, 10], [11, 12]])\n",
    "\n",
    "# 沿着行拼接\n",
    "tensor_concat = torch.concat((tensor_e, tensor_f), dim=0)\n",
    "print(\"torch.concat(dim=0):\\n\", tensor_concat)\n",
    "\n",
    "# 沿着列拼接\n",
    "tensor_concat = torch.concat((tensor_e, tensor_f), dim=1)\n",
    "print(\"torch.concat(dim=1):\\n\", tensor_concat)\n",
    "\n",
    "# 使用 vstack 沿列堆叠\n",
    "result = torch.vstack((tensor_e, tensor_f))\n",
    "\n",
    "print(\"torch.vstack():\\n\", result)\n",
    "\n",
    "# 使用 column_stack 沿列堆叠\n",
    "result = torch.column_stack((tensor_e, tensor_f))\n",
    "\n",
    "print(\"torch.column_stack():\\n\", result)\n",
    "\n",
    "# 使用 stack堆叠\n",
    "result = torch.stack((tensor_e, tensor_f), dim=0)\n",
    "\n",
    "print(\"torch.stack():\\n\", result)\n",
    "\n",
    "# 创建一个4x4的张量\n",
    "tensor = torch.tensor([[1, 2, 3, 4],\n",
    "                       [5, 6, 7, 8],\n",
    "                       [9, 10, 11, 12],\n",
    "                       [13, 14, 15, 16]])\n",
    "\n",
    "# 将张量沿着第0维（行）分割成两块\n",
    "chunks = torch.chunk(tensor, 2, dim=0)\n",
    "\n",
    "# 输出结果\n",
    "for i, chunk in enumerate(chunks):\n",
    "    print(f\"Chunk {i+1}:\\n{chunk}\")\n",
    "\n",
    "# 按指定的大小分割：第一个块1行，第二个块2行，第三个块1行\n",
    "split_tensors = torch.split(tensor, [1, 2, 1], dim=0)\n",
    "\n",
    "# 输出结果\n",
    "for i, split_tensor in enumerate(split_tensors):\n",
    "    print(f\"Split {i+1}:\\n{split_tensor}\")\n",
    "    \n",
    "\n",
    "# 创建一个形状为 (2, 3, 4) 的张量\n",
    "x = torch.tensor([[[ 1,  2,  3,  4],\n",
    "                   [ 5,  6,  7,  8],\n",
    "                   [ 9, 10, 11, 12]],\n",
    "\n",
    "                  [[13, 14, 15, 16],\n",
    "                   [17, 18, 19, 20],\n",
    "                   [21, 22, 23, 24]]])\n",
    "y = torch.permute(x, (2, 1, 0))\n",
    "print(\"torch.permute:\\n\",y)\n",
    "y = torch.transpose(x, 0, 2)\n",
    "print(\"torch.transpose:\\n\",y)\n"
   ]
  },
  {
   "cell_type": "markdown",
   "id": "bf89fb22",
   "metadata": {},
   "source": [
    "## 五.张量的随机种子\n",
    "\n",
    "随机种子（Random Seed）是一种控制随机数生成器起始状态的机制，给定一个初始状态（即种子），它每次都会生成相同的随机数序列。\n",
    "\n",
    "| | |\n",
    "|------|--------|\n",
    "| seed | 返回一个新的随机种子值，但不会设置全局随机种子 |\n",
    "| manual_seed | 设置全局的随机种子，确保CPU上的随机操作是可重复的，建议设置为42|\n",
    "| initial_seed | 返回初始种子|\n",
    "| get_rng_state | 返回生成器的状态|\n",
    "| set_rng_state | 设置随机数生成器的状态|\n",
    "\n",
    "以上均是设置cpu上的张量随机种子，在cuda上是另外一套随机种子，如torch.cuda.manual_seed_all(seed)"
   ]
  },
  {
   "cell_type": "code",
   "execution_count": 12,
   "id": "77f11610",
   "metadata": {},
   "outputs": [
    {
     "name": "stdout",
     "output_type": "stream",
     "text": [
      "当前种子值: 48633472717800\n",
      "初始随机种子: 412\n"
     ]
    }
   ],
   "source": [
    "import torch\n",
    "\n",
    "# 生成一个新的随机种子\n",
    "seed_value = torch.seed()\n",
    "print(\"当前种子值:\", seed_value)\n",
    "\n",
    "# 设置全局随机种子\n",
    "torch.manual_seed(42)\n",
    "\n",
    "# 获取初始随机种子值\n",
    "initial_seed = torch.initial_seed()\n",
    "print(\"初始随机种子:\", initial_seed)\n",
    "\n",
    "# "
   ]
  },
  {
   "cell_type": "markdown",
   "id": "e9556436",
   "metadata": {},
   "source": [
    "## 六.张量的数学运算\n",
    "\n",
    "张量还提供大量数学操作，估计了一下，有快一百个函数，这里就不再一一分析，只需要知道有哪几大类，用到的时候来查吧。\n",
    "   - [Pointwise Ops](https://pytorch.org/docs/stable/torch.html#pointwise-ops) 逐元素的操作，如abs, cos, sin, floor, floor_divide, pow等\n",
    "   - [Reduction Ops](https://pytorch.org/docs/stable/torch.html#reduction-ops) 减少元素的操作，如argmax, argmin, all, any, mean, norm, var等\n",
    "   - [Comparison Ops](https://pytorch.org/docs/stable/torch.html#comparison-ops) 对比操作， 如ge, gt, le, lt, eq, argsort, isnan, topk,\n",
    "   - [Spectral Ops](https://pytorch.org/docs/stable/torch.html#pointwise-ops) 谱操作，如短时傅里叶变换等各类信号处理的函数。\n",
    "   - [Other Operations](https://pytorch.org/docs/stable/torch.html#pointwise-ops) 其它， clone， diag，flip等\n",
    "   - [BLAS and LAPACK Operations](https://pytorch.org/docs/stable/torch.html#pointwise-ops) BLAS（Basic Linear Algebra Subprograms）基础线性代数）操作。如, addmm, dot, inner, svd等。"
   ]
  },
  {
   "cell_type": "code",
   "execution_count": null,
   "id": "240e01f8",
   "metadata": {},
   "outputs": [],
   "source": []
  }
 ],
 "metadata": {
  "kernelspec": {
   "display_name": "Python 3 (ipykernel)",
   "language": "python",
   "name": "python3"
  },
  "language_info": {
   "codemirror_mode": {
    "name": "ipython",
    "version": 3
   },
   "file_extension": ".py",
   "mimetype": "text/x-python",
   "name": "python",
   "nbconvert_exporter": "python",
   "pygments_lexer": "ipython3",
   "version": "3.8.19"
  }
 },
 "nbformat": 4,
 "nbformat_minor": 5
}
