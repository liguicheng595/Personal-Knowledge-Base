{
 "cells": [
  {
   "cell_type": "markdown",
   "metadata": {},
   "source": [
    "### 4.1 分而治之\n",
    "分而治之（divide & conquer），一种通用的解决问题的思想\n",
    "\n",
    "- 解决问题包括两个步骤：\n",
    "    - 找的基线条件\n",
    "    - 不断的进行分解，并递归调用方法解决，直到满足基线条件终止\n",
    "    - 这样从最小的问题逐步解决到最大的问题\n",
    "\n",
    "比如说，分地问题，要求把一块地进行均匀划分成方块，而且分出的方块尽可能大，基线条件就是一条边是另一条边的整数倍，一直分解，通过递归一条边能够满足另一条边几个，继续分解，直到完成；其实这就是**欧几里得算法**.\n",
    "\n",
    "**欧几里得算法**：如果 a 和 b 是两个正整数，且 𝑎 > 𝑏，则它们的最大公约数等于 b 和 𝑎 mod 𝑏（即 𝑎 除以 b 的余数）的最大公约数.\n",
    "\n",
    "比如说，数组求和问题，基线就是数组为[]或[1],分解数组第一个值+数组[1:],直到满足基线。"
   ]
  },
  {
   "cell_type": "code",
   "execution_count": 5,
   "metadata": {},
   "outputs": [
    {
     "name": "stdout",
     "output_type": "stream",
     "text": [
      "80是最大公约数\n",
      "7\n"
     ]
    }
   ],
   "source": [
    "# 欧几里得算法，假设a>b\n",
    "def euclidean_algorithm(a, b):\n",
    "    c = a % b\n",
    "    if c == 0:\n",
    "        print(f'{b}是最大公约数')\n",
    "        return b\n",
    "    else:\n",
    "        a = b\n",
    "        b = c\n",
    "        euclidean_algorithm(a, b)\n",
    "euclidean_algorithm(1680, 640)\n",
    "    \n",
    "\n",
    "# 求和\n",
    "def sum(list):\n",
    "    if len(list) == 0:\n",
    "        return 0\n",
    "    else:\n",
    "        first = list.pop(0)\n",
    "        return first + sum(list)\n",
    "\n",
    "print(sum([1, 2, 4]))\n",
    "\n"
   ]
  },
  {
   "cell_type": "markdown",
   "metadata": {},
   "source": [
    "### 4.2 快速排序\n",
    "快速排序是一种常用的算法，比前面提到的选择排序快的多，c语言qsort就是用了这个算法。\n",
    "\n",
    "- 算法详解\n",
    "    - 基线条件：当数组长度小于2，数组肯定是有序的，直接返回值就可以\n",
    "    - 分治策略：选定基准值，将列表值分为大于基准值和小于基准值，分别执行快速排序递归函数\n",
    "- 核心理解：是不是可以想成树，一分2,2分4，分了无数颗小子树来进行排序，如果每次基准值都是平分，树层数为logn层，每层操作为n，所以时间复杂度为O(nlogn)，最不理想的情况下构建n层树，那么时间复杂度为O(n2)"
   ]
  },
  {
   "cell_type": "code",
   "execution_count": 1,
   "metadata": {},
   "outputs": [
    {
     "name": "stdout",
     "output_type": "stream",
     "text": [
      "[2, 3, 5, 6, 7, 10, 20, 43]\n"
     ]
    }
   ],
   "source": [
    "def quick_sort(list):\n",
    "    if len(list) < 2:\n",
    "        return list\n",
    "    else:\n",
    "        pivot = list.pop(0)\n",
    "        greater_pivot = [i  for i in list if i > pivot]\n",
    "        smaller_pivot = [i  for i in list if i <= pivot]\n",
    "\n",
    "        return quick_sort(smaller_pivot) + [pivot] + quick_sort(greater_pivot)\n",
    "\n",
    "print(quick_sort([10, 5, 2, 3, 7, 20, 43, 6]))\n"
   ]
  },
  {
   "cell_type": "markdown",
   "metadata": {},
   "source": [
    "### 4.3 再谈大O表示法\n",
    "上面提到最好情况是O(nlogn)，但是平均情况也是O(nlogn)，因为假设数组是随机的，每次挑选基准值都假定可以认为是均分。\n",
    "\n",
    "一种叫做合并排序的算法运行时间为O(nlogn)，下面看下合并排序和快速排序的对比\n",
    "\n",
    "#### 4.3.1 比较合并排序和快速排序\n",
    "**常量的影响**：两种算法的大O运行时间不同，通常不考虑常量的影响\n",
    "但是，对有时候，常量的影响可能很大，对于快速查找和合并排序就是如此。快速排序常量时间小，虽说快速排序最糟糕情况是O(n2)，但是大多数是一般情况\n",
    "\n",
    "#### 4.3.2 平均情况和最糟情况\n",
    "这部分就是想说可以认为最佳情况\n"
   ]
  },
  {
   "cell_type": "markdown",
   "metadata": {},
   "source": []
  }
 ],
 "metadata": {
  "kernelspec": {
   "display_name": "jupyter",
   "language": "python",
   "name": "python3"
  },
  "language_info": {
   "codemirror_mode": {
    "name": "ipython",
    "version": 3
   },
   "file_extension": ".py",
   "mimetype": "text/x-python",
   "name": "python",
   "nbconvert_exporter": "python",
   "pygments_lexer": "ipython3",
   "version": "3.8.19"
  }
 },
 "nbformat": 4,
 "nbformat_minor": 2
}
