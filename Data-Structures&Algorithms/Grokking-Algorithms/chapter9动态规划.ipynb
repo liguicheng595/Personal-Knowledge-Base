{
 "cells": [
  {
   "cell_type": "markdown",
   "metadata": {},
   "source": [
    " #### 动态规划\n",
    " 核心要点：\n",
    " - 需要在给定约束条件下优化某种指标时，动态规划很有用\n",
    " - 问题可分解为离散子问题时，可以用动态规划来解决\n",
    " - 每种动态规划解决都涉及网格\n",
    " - 单元格中的值通常就是你要优化的值\n",
    " - 每个单元都是一个子问题，因此你需要考虑如何将问题分解为子问题\n",
    " - 没有放之四海而皆准的计算动态规划解决方案的公式"
   ]
  },
  {
   "cell_type": "markdown",
   "metadata": {},
   "source": []
  }
 ],
 "metadata": {
  "language_info": {
   "name": "python"
  }
 },
 "nbformat": 4,
 "nbformat_minor": 2
}
