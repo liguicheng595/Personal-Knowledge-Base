{
 "cells": [
  {
   "cell_type": "markdown",
   "metadata": {},
   "source": [
    "### 5.1散列函数\n",
    "\n",
    "散列函数就是将输入映射到数字的一种函数，要求：\n",
    "- 固定输入对应固定输出\n",
    "- 不同的输入映射不同的数字\n",
    "\n",
    "散列函数结合数组构建成散列表，这是本书学习的第一种包含额外逻辑的数据结构\n",
    "\n",
    "散列表也被称为散列映射、映射、字典、关联函数"
   ]
  },
  {
   "cell_type": "code",
   "execution_count": 1,
   "metadata": {},
   "outputs": [
    {
     "name": "stdout",
     "output_type": "stream",
     "text": [
      "{'apple': 0.67, 'milk': 1.49}\n"
     ]
    }
   ],
   "source": [
    "# 对于python来说，散列表就是字典\n",
    "book = dict()\n",
    "book[\"apple\"] = 0.67\n",
    "book[\"milk\"] = 1.49\n",
    "print(book)"
   ]
  },
  {
   "cell_type": "markdown",
   "metadata": {},
   "source": [
    "### 5.2 应用案例\n",
    "#### 5.2.1 查找\n",
    "手机内部内置了电话簿，每个人名都对应一个电话\n",
    "\n",
    "DNS解析，将网站映射为ip地址"
   ]
  },
  {
   "cell_type": "code",
   "execution_count": 2,
   "metadata": {},
   "outputs": [
    {
     "name": "stdout",
     "output_type": "stream",
     "text": [
      "123445\n"
     ]
    }
   ],
   "source": [
    "phone_book = dict()\n",
    "phone_book['sbfg'] = 123445\n",
    "phone_book['gagd'] = 534646\n",
    "\n",
    "print(phone_book['sbfg'])"
   ]
  },
  {
   "cell_type": "markdown",
   "metadata": {},
   "source": [
    "#### 5.2.2 防止重复\n",
    "投票问题，防止一个人投多次票"
   ]
  },
  {
   "cell_type": "code",
   "execution_count": 5,
   "metadata": {},
   "outputs": [
    {
     "name": "stdout",
     "output_type": "stream",
     "text": [
      "tom请投票\n",
      "你已经投过票了\n"
     ]
    }
   ],
   "source": [
    "vote_name = dict()\n",
    "\n",
    "def check_vote(name):\n",
    "    if vote_name.get(name):\n",
    "        print('你已经投过票了')\n",
    "    else:\n",
    "        print(f'{name}请投票')\n",
    "        vote_name[name] = True\n",
    "\n",
    "check_vote('tom')\n",
    "check_vote('tom')"
   ]
  },
  {
   "cell_type": "markdown",
   "metadata": {},
   "source": [
    "#### 5.2.3 用于缓存\n",
    "比如说经常访问的网页，存储为缓存，然后网址作为键，请求这个网址时，直接返回本地缓存"
   ]
  },
  {
   "cell_type": "markdown",
   "metadata": {},
   "source": [
    "### 5.3 冲突\n",
    "之前提到散列函数总是将不同的键映射到不同的位置，这句话其实是不对的，几乎不可能编写出这样的散列函数，会出现不同键映射到相同位置\n",
    "\n",
    "这里解决方法是将映射到相同位置地方存储一个链表，这样虽然增加了查询难度，但是解决了冲突。\n"
   ]
  },
  {
   "cell_type": "markdown",
   "metadata": {},
   "source": [
    "### 5.4性能\n",
    "散列表在查找、插入、删除的最糟糕的时间复杂度为O(n)，就是说所有键都被映射到同一个位置，退化为链表。\n",
    "所以说我认为P72性能对比是不对的，链表的插入和删除并不是O(1)\n",
    "\n",
    "为了更好的解决冲突，最好的方法是\n",
    "- 较低的填装因子\n",
    "- 良好的散列函数\n",
    "\n",
    "#### 5.4.1 填装因子\n",
    "填装因子 = 散列表包含的元素/位置总数，1的话就是这个散列表的数组被全部占用了\n",
    "\n",
    "#### 5.4.2 良好的散列函数\n",
    "良好的散列函数让数组中的值呈均匀分布，如SHA函数"
   ]
  }
 ],
 "metadata": {
  "kernelspec": {
   "display_name": "jupyter",
   "language": "python",
   "name": "python3"
  },
  "language_info": {
   "codemirror_mode": {
    "name": "ipython",
    "version": 3
   },
   "file_extension": ".py",
   "mimetype": "text/x-python",
   "name": "python",
   "nbconvert_exporter": "python",
   "pygments_lexer": "ipython3",
   "version": "3.8.19"
  }
 },
 "nbformat": 4,
 "nbformat_minor": 2
}
