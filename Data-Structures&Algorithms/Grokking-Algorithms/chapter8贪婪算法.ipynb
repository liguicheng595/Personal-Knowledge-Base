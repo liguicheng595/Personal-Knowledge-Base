{
 "cells": [
  {
   "cell_type": "markdown",
   "metadata": {},
   "source": [
    "#### 8.1 贪婪算法\n",
    "每一步都寻找最优解，最终得到的就是全局最优解。教师调度问题、背包问题、集合覆盖问题\n",
    "\n",
    "有些情况下，完美是优秀的敌人\n"
   ]
  },
  {
   "cell_type": "code",
   "execution_count": null,
   "metadata": {},
   "outputs": [
    {
     "name": "stdout",
     "output_type": "stream",
     "text": [
      "{'ktwo', 'kfive', 'kthree', 'kone'}\n"
     ]
    }
   ],
   "source": [
    "# 文中集合覆盖问题\n",
    "\n",
    "states_needed = set([\"mt\", \"wa\", \"or\", \"id\", \"nv\", \"ut\", \"ca\", \"az\"])   \n",
    "\n",
    "stations = {}\n",
    "stations[\"kone\"] = set([\"id\", \"nv\", \"ut\"])\n",
    "stations[\"ktwo\"] = set([\"wa\", \"id\", \"mt\"])\n",
    "stations[\"kthree\"] = set([\"or\", \"nv\", \"ca\"])\n",
    "stations[\"kfour\"] = set([\"nv\", \"ut\"])\n",
    "stations[\"kfive\"] = set([\"ca\", \"az\"])\n",
    "\n",
    "best_stations = set()\n",
    "\n",
    "while states_needed:\n",
    "    best_station = None\n",
    "    states_covered = set()\n",
    "    for station, states_in_station in stations.items():\n",
    "        states_common = set(states_in_station) & states_needed\n",
    "        if len(states_common) > len(states_covered):\n",
    "            best_station = station\n",
    "            states_covered = states_common\n",
    "    states_needed  -= states_covered\n",
    "    best_stations.add(best_station)\n",
    "\n",
    "print(best_stations)\n"
   ]
  },
  {
   "cell_type": "markdown",
   "metadata": {},
   "source": [
    "#### 8.2 NP完全问题\n",
    "对于一个问题，没有最优解的问题，只能通过近似求解来实现，通常来说：\n",
    "- 元素较少时算法运行速度非常快，但是随着元素的增加，速度会变得非常慢\n",
    "- 涉及所有组合的问题通常是NP完全问题\n",
    "- 不能将问题分成小问题，必须考虑可能的各种情况，这就是个NP完全问题\n",
    "- 如果问题涉及序列（如旅行商问题中的城市序列）且难以解决，它可能就是NP完全问题\n",
    "- 如果问题涉及集合（如广播台集合）且难以解决，它可能就是NP完全问题\n",
    "- 如果问题可转换为集合覆盖问题或旅行商问题，那它肯定是NP完全问题\n"
   ]
  },
  {
   "cell_type": "code",
   "execution_count": null,
   "metadata": {},
   "outputs": [],
   "source": []
  }
 ],
 "metadata": {
  "kernelspec": {
   "display_name": "jupyter",
   "language": "python",
   "name": "python3"
  },
  "language_info": {
   "codemirror_mode": {
    "name": "ipython",
    "version": 3
   },
   "file_extension": ".py",
   "mimetype": "text/x-python",
   "name": "python",
   "nbconvert_exporter": "python",
   "pygments_lexer": "ipython3",
   "version": "3.8.19"
  }
 },
 "nbformat": 4,
 "nbformat_minor": 2
}
