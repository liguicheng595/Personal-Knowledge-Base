{
 "cells": [
  {
   "cell_type": "markdown",
   "metadata": {},
   "source": [
    "### 6.1图简介\n",
    "图由边和节点构成，一个节点可能与多个节点直接相连。"
   ]
  },
  {
   "cell_type": "markdown",
   "metadata": {},
   "source": [
    "### 6.2广度优先搜索\n",
    "类似于二分查找，广度优先搜索是在图中进行查找，能够回答两类问题：\n",
    "1. 节点A到节点B有没有路径\n",
    "2. 从节点A出发到节点B最短路径是什么\n",
    "\n",
    "#### 6.2.1 查找最短路径\n",
    "对于图的一个节点，存在一度、二度、三度等关系，其中一度最近，是最先开始查找的，如何能够确保这种按着顺序进行检查呢，那就是通过队列数据格式(queue)。\n",
    "#### 6.2.2队列\n",
    "队列是先进先出，栈是后进先出，想成一个横着排，一个纵着排即可。\n",
    "\n",
    "下面通过队列和散列表（字典）来实现图\n"
   ]
  },
  {
   "cell_type": "code",
   "execution_count": 4,
   "metadata": {},
   "outputs": [],
   "source": [
    "graph = {}\n",
    "graph['you'] = ['alice', 'bob', 'claire']\n",
    "graph['bob'] = ['anuj', 'peggy']\n",
    "graph['alice'] = ['peggy']\n",
    "graph['claire'] = ['thom','peggy']\n",
    "graph['anuj'] = []\n",
    "graph['peggy'] = []\n",
    "graph['thom'] = []\n",
    "graph['jonny'] = []"
   ]
  },
  {
   "cell_type": "code",
   "execution_count": 6,
   "metadata": {},
   "outputs": [
    {
     "name": "stdout",
     "output_type": "stream",
     "text": [
      "恭喜你找到了经销商thom\n"
     ]
    }
   ],
   "source": [
    "from collections import deque\n",
    "\n",
    "def person_is_seller(name):\n",
    "    return name[-1] == 'm'\n",
    "\n",
    "def search_seller(graph):\n",
    "    search_queue = deque()\n",
    "    search_queue += graph['you']\n",
    "    searched_person =  []\n",
    "\n",
    "    while search_queue:\n",
    "        person = search_queue.popleft()\n",
    "        if person not in searched_person:\n",
    "            if person_is_seller(person):\n",
    "                print(f'恭喜你找到了经销商{person}')\n",
    "            else:\n",
    "                search_queue +=graph[person]\n",
    "                searched_person.append(person)\n",
    "    return False\n",
    "\n",
    "search_seller(graph)\n"
   ]
  },
  {
   "cell_type": "code",
   "execution_count": null,
   "metadata": {},
   "outputs": [],
   "source": []
  }
 ],
 "metadata": {
  "kernelspec": {
   "display_name": "jupyter",
   "language": "python",
   "name": "python3"
  },
  "language_info": {
   "codemirror_mode": {
    "name": "ipython",
    "version": 3
   },
   "file_extension": ".py",
   "mimetype": "text/x-python",
   "name": "python",
   "nbconvert_exporter": "python",
   "pygments_lexer": "ipython3",
   "version": "3.8.19"
  }
 },
 "nbformat": 4,
 "nbformat_minor": 2
}
