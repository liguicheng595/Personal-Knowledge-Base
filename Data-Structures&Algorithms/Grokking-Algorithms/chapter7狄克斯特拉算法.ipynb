{
 "cells": [
  {
   "cell_type": "markdown",
   "metadata": {},
   "source": [
    "#### 7.1 使用狄克斯特拉算法\n",
    "适用于有向无环图（DAG）和边有权重的图，要求不能是负权边。步骤是：\n",
    "\n",
    "1. 找到最便宜的节点，并确保没有到该节点更便宜的路径（这就是为什么不能适用于负权边）\n",
    "2. 找到该节点的邻居，检查是否有前往它们的更短路径，如果有，那么更新其开销\n",
    "3. 从该节点出发，重复找最便宜的节点，然后执行2\n",
    "4. 计算最短路径\n",
    "\n",
    "下面进行实现："
   ]
  },
  {
   "cell_type": "code",
   "execution_count": 1,
   "metadata": {},
   "outputs": [],
   "source": [
    "# 构建图\n",
    "graph = {}\n",
    "graph[\"start\"] = {}\n",
    "graph[\"start\"][\"A\"] = 6\n",
    "graph[\"start\"][\"B\"] = 2\n",
    "\n",
    "graph[\"A\"] = {}\n",
    "graph[\"A\"][\"end\"] = 1\n",
    "\n",
    "graph[\"B\"] = {}\n",
    "graph[\"B\"][\"A\"] = 3\n",
    "graph[\"B\"][\"end\"] = 5\n",
    "\n",
    "graph[\"end\"] = {}\n",
    "\n",
    "# 构建花销\n",
    "cost = {}\n",
    "cost[\"A\"] = 6\n",
    "cost[\"B\"] = 2\n",
    "cost[\"end\"] = float(\"inf\")\n",
    "\n",
    "# 构建parents\n",
    "parents = {}\n",
    "parents['start'] = None\n",
    "parents[\"A\"] = \"start\"\n",
    "parents[\"B\"] = \"start\"\n",
    "parents[\"end\"] = None\n"
   ]
  },
  {
   "cell_type": "code",
   "execution_count": null,
   "metadata": {},
   "outputs": [
    {
     "name": "stdout",
     "output_type": "stream",
     "text": [
      "['start', 'B', 'A', 'end']\n"
     ]
    }
   ],
   "source": [
    "def find_lowest_cost_node(cost, processed):\n",
    "    lowest_cost = float(\"inf\")\n",
    "    lowest_cost_node = None\n",
    "\n",
    "    for node in (cost.keys()):\n",
    "        if cost[node] < lowest_cost and node not in processed:\n",
    "            lowest_cost = cost[node]\n",
    "            lowest_cost_node = node\n",
    "    \n",
    "    return lowest_cost_node\n",
    "\n",
    "processed = []\n",
    "node = find_lowest_cost_node(cost, processed)\n",
    "\n",
    "while node is not None:\n",
    "    for neighbor in graph[node].keys():\n",
    "        new_neighbor_cost = cost[node] + graph[node][neighbor]\n",
    "        if new_neighbor_cost < cost[neighbor]:\n",
    "            cost[neighbor] = new_neighbor_cost\n",
    "            parents[neighbor] = node\n",
    "    processed.append(node)\n",
    "    node = find_lowest_cost_node(cost, processed)\n",
    "\n",
    "shortest_path = []\n",
    "node = 'end'\n",
    "while node is not None:\n",
    "    shortest_path.append(node)\n",
    "    node = parents[node]\n",
    "\n",
    "shortest_path.reverse()\n",
    "\n",
    "print(shortest_path)"
   ]
  },
  {
   "cell_type": "code",
   "execution_count": null,
   "metadata": {},
   "outputs": [],
   "source": []
  }
 ],
 "metadata": {
  "kernelspec": {
   "display_name": "jupyter",
   "language": "python",
   "name": "python3"
  },
  "language_info": {
   "codemirror_mode": {
    "name": "ipython",
    "version": 3
   },
   "file_extension": ".py",
   "mimetype": "text/x-python",
   "name": "python",
   "nbconvert_exporter": "python",
   "pygments_lexer": "ipython3",
   "version": "3.8.19"
  }
 },
 "nbformat": 4,
 "nbformat_minor": 2
}
