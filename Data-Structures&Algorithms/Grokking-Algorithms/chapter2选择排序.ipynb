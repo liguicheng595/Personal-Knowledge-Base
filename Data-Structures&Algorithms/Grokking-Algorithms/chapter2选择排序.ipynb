{
 "cells": [
  {
   "cell_type": "markdown",
   "metadata": {},
   "source": [
    "### 2.1 数组和链表\n",
    "\n",
    "- 从内存存储的角度来说：\n",
    "    - 数组是必须连续存储的，如果存储位置不够，只能更换地方，就像如果中午和我吃饭的有四个人，当一个桌子只有三个座位时候，肯定坐不下，只能重新寻找桌子；如果又来一个朋友，座位不够，又要重新转移。所以说数组只适合存储知道固定大小数据。\n",
    "    - 对于链表，会存储数据及下一个数据的地址，方便插入和删除数据\n",
    "    - 数组的读取（查询）为O(1)，插入为O(n)；链表插入为O(1)，读取为O(n)\n",
    "    \n"
   ]
  },
  {
   "cell_type": "markdown",
   "metadata": {},
   "source": [
    "### 2.2 选择排序\n",
    "\n",
    "假如有一个记录了每个歌曲播放次数的列表，我们要对其进行排序，可以先遍历列表，找到播放最高的，把它放在第一位，然后再遍历找第二高的，依次进行，这就是选择排序。"
   ]
  },
  {
   "cell_type": "code",
   "execution_count": null,
   "metadata": {},
   "outputs": [
    {
     "name": "stdout",
     "output_type": "stream",
     "text": [
      "[100, 50, 20, 5, 2, 1]\n"
     ]
    }
   ],
   "source": [
    "def findLargest(arr):\n",
    "    largest = arr[0]\n",
    "    largest_index = 0\n",
    "\n",
    "    for i in range(len(arr)):\n",
    "        if arr[i] > largest:\n",
    "            largest = arr[i]\n",
    "            largest_index = i\n",
    "    return largest_index\n",
    "\n",
    "def selectionSort(arr):\n",
    "    sort_arr = []\n",
    "\n",
    "    for i in range(len(arr)):\n",
    "        largest_index = findLargest(arr)\n",
    "        sort_arr.append(arr.pop(largest_index))\n",
    "    \n",
    "    return sort_arr\n",
    "\n",
    "arr = [1, 20, 50 , 5, 2, 100]\n",
    "print(selectionSort(arr))\n",
    "\n"
   ]
  }
 ],
 "metadata": {
  "kernelspec": {
   "display_name": "jupyter",
   "language": "python",
   "name": "python3"
  },
  "language_info": {
   "codemirror_mode": {
    "name": "ipython",
    "version": 3
   },
   "file_extension": ".py",
   "mimetype": "text/x-python",
   "name": "python",
   "nbconvert_exporter": "python",
   "pygments_lexer": "ipython3",
   "version": "3.8.19"
  }
 },
 "nbformat": 4,
 "nbformat_minor": 2
}
