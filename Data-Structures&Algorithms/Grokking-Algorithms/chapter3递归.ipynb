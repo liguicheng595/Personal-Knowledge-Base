{
 "cells": [
  {
   "cell_type": "markdown",
   "metadata": {},
   "source": [
    "### 3.1 递归\n",
    "这里引出来之前认识没有意识到的地方，那就是循环是循环，递归是递归。\n",
    "\n",
    "- 对于文中提到的从大盒子里面寻找钥匙，有两个思路：\n",
    "    - 一个是创建一个盒子堆，然后对盒子堆进行遍历，如果是盒子，那加入盒子堆，继续遍历，如果是钥匙，那么退出\n",
    "    - 另一种是检查盒子每一样东西，如果是盒子，返回检查盒子每一样东西，如果是钥匙，退出。\n",
    "- 下面是模拟这个过程的python代码"
   ]
  },
  {
   "cell_type": "code",
   "execution_count": 15,
   "metadata": {},
   "outputs": [
    {
     "name": "stdout",
     "output_type": "stream",
     "text": [
      "found the key by recursion\n"
     ]
    }
   ],
   "source": [
    "# 构建盒子类\n",
    "class Box():\n",
    "    def __init__(self, boxname):\n",
    "        self.name = boxname\n",
    "        self.item = []\n",
    "        self.is_a_box = True\n",
    "        self.is_a_key = False\n",
    "\n",
    "    def add_item(self, *args):\n",
    "        for arg in args:\n",
    "            self.item.append(arg)\n",
    "\n",
    "    def make_a_pile_to_look_through(self):\n",
    "        return self.item\n",
    "\n",
    "# 构建key类\n",
    "class Key():\n",
    "    def __init__(self, keyname):\n",
    "        self.name = keyname\n",
    "        self.is_a_box = False\n",
    "        self.is_a_key = True\n",
    "\n",
    "box1 = Box('box1')\n",
    "box2 = Box('box2')\n",
    "box3 = Box('box3')\n",
    "box4 = Box('box4')\n",
    "box5 = Box('box5')\n",
    "box6 = Box('box6')\n",
    "main_box = Box('main_box')\n",
    "key = Key('key')\n",
    "\n",
    "box3.add_item(box1, box2)\n",
    "\n",
    "box5.add_item(box3, box4)\n",
    "\n",
    "box4.add_item(key)\n",
    "\n",
    "main_box.add_item(box5, box6)\n",
    "\n",
    "# 使用循环来查找钥匙\n",
    "def look_for_key_by_loop(main_box):\n",
    "    pile = main_box.make_a_pile_to_look_through()\n",
    "\n",
    "    while pile:\n",
    "        item = pile[0]\n",
    "\n",
    "        # 判断\n",
    "        if item.is_a_box:\n",
    "            pile.extend(item.item)\n",
    "            del pile[0]     \n",
    "        elif item.is_a_key:\n",
    "            print('found the key by loop')\n",
    "            del pile[0]\n",
    "\n",
    "# look_for_key_by_loop(main_box)\n",
    "\n",
    "# 通过递归来找到钥匙\n",
    "def look_for_key_by_recursion(box):\n",
    "    for item in box.item:\n",
    "        if item.is_a_box:\n",
    "            look_for_key_by_recursion(item)\n",
    "        elif item.is_a_key:\n",
    "            print('found the key by recursion')\n",
    "\n",
    "look_for_key_by_recursion(main_box)\n",
    "        "
   ]
  },
  {
   "cell_type": "markdown",
   "metadata": {},
   "source": [
    "### 3.2 基线条件和递归条件\n",
    "编写递归函数是很容易出错的，所以必须要求有条件终止，这个条件就是基线条件\n",
    "\n",
    "递归条件是指让函数调用自己的条件"
   ]
  },
  {
   "cell_type": "markdown",
   "metadata": {},
   "source": [
    "### 3.3 栈（stack）\n",
    "栈是一种后进先出的数据结构，只有两个操作，压入栈顶和从栈顶部弹出\n",
    "\n",
    "#### 3.3.1 调用栈\n",
    "在计算机内部使用调用栈的栈，这部分想说明的就是函数里面有函数，函数调用是以栈结构存储，后面函数在上\n",
    "\n",
    "下面函数依次执行是greet→greet2（放入栈顶部）→greet2取走→bye（放入栈顶）→取走→取走"
   ]
  },
  {
   "cell_type": "code",
   "execution_count": 16,
   "metadata": {},
   "outputs": [
    {
     "name": "stdout",
     "output_type": "stream",
     "text": [
      "helloLi lin!\n",
      "how are you, Li lin?\n",
      "getting ready to say bye...\n",
      "ok bye !\n"
     ]
    }
   ],
   "source": [
    "def greet(name):\n",
    "    print('hello' + name + '!')\n",
    "    greet2(name)\n",
    "    print('getting ready to say bye...')\n",
    "    bye()\n",
    "\n",
    "def greet2(name):\n",
    "    print('how are you, ' + name +'?')\n",
    "\n",
    "def bye():\n",
    "    print('ok bye !')\n",
    "\n",
    "greet(\"Li lin\")"
   ]
  },
  {
   "cell_type": "markdown",
   "metadata": {},
   "source": [
    "### 3.3.2 递归调用栈\n",
    "递归函数也使用调用栈，下面看一个求阶乘的函数"
   ]
  },
  {
   "cell_type": "code",
   "execution_count": null,
   "metadata": {},
   "outputs": [
    {
     "data": {
      "text/plain": [
       "6"
      ]
     },
     "execution_count": 17,
     "metadata": {},
     "output_type": "execute_result"
    }
   ],
   "source": [
    "def factorial(x):\n",
    "    if x ==1:\n",
    "        return 1\n",
    "    else:\n",
    "        return x * factorial(x-1)\n",
    "\n",
    "factorial(3)"
   ]
  },
  {
   "cell_type": "markdown",
   "metadata": {},
   "source": [
    "factorial(3) → factorial(2)压入调用栈，未执行 → factorial(1)压入调用栈，执行 → factorial(2)执行 → factorial(3)"
   ]
  }
 ],
 "metadata": {
  "kernelspec": {
   "display_name": "jupyter",
   "language": "python",
   "name": "python3"
  },
  "language_info": {
   "codemirror_mode": {
    "name": "ipython",
    "version": 3
   },
   "file_extension": ".py",
   "mimetype": "text/x-python",
   "name": "python",
   "nbconvert_exporter": "python",
   "pygments_lexer": "ipython3",
   "version": "3.8.19"
  }
 },
 "nbformat": 4,
 "nbformat_minor": 2
}
